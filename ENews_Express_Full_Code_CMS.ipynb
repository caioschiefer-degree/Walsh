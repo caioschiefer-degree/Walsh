{
  "nbformat": 4,
  "nbformat_minor": 5,
  "metadata": {
    "kernelspec": {
      "display_name": "Python 3",
      "language": "python",
      "name": "python3"
    },
    "language_info": {
      "codemirror_mode": {
        "name": "ipython",
        "version": 3
      },
      "file_extension": ".py",
      "mimetype": "text/x-python",
      "name": "python",
      "nbconvert_exporter": "python",
      "pygments_lexer": "ipython3",
      "version": "3.8.8"
    },
    "colab": {
      "provenance": [],
      "toc_visible": true,
      "include_colab_link": true
    }
  },
  "cells": [
    {
      "cell_type": "markdown",
      "metadata": {
        "id": "view-in-github",
        "colab_type": "text"
      },
      "source": [
        "<a href=\"https://colab.research.google.com/github/caioschiefer-degree/Walsh/blob/main/ENews_Express_Full_Code_CMS.ipynb\" target=\"_parent\"><img src=\"https://colab.research.google.com/assets/colab-badge.svg\" alt=\"Open In Colab\"/></a>"
      ]
    },
    {
      "cell_type": "markdown",
      "source": [
        "<span style=\"font-family: Arial; font-weight:bold;font-size:1.5em;color:#0e92ea\"> Learner:\n",
        "<font color=white>: **Caio Maluf Schiefer**\n",
        "\n",
        "<span style=\"font-family: Arial; font-weight:bold;font-size:1.5em;color:#0e92ea\"> Project 1:\n",
        "<font color=white>: **Business Statistics**\n",
        "\n",
        "    \n",
        "<span style=\"font-family: Arial; font-weight:bold;font-size:1.5em;color:#0e92ea\"> Submission Date:\n",
        "<font color=white>: **3 August 2025**\n",
        "\n",
        "    \n",
        "<span style=\"font-family: Arial; font-weight:bold;font-size:1.5em;color:#0e92ea\"> GitHub Address of this assignment\n",
        "<font color=darkblue>:\n",
        "    https://github.com/caioschiefer-degree/Walsh.git\n",
        "\n",
        "<span style=\"font-family: Arial; font-weight:bold;font-size:1.5em;color:#0e92ea\"> Google Colab URL of this assignment\n",
        "<font color=darkblue>:\n",
        "    https://drive.google.com/file/d/1fmKKlWyECQ0X7tsxvDxDPl_6hOgZ-zVl/view?usp=sharing"
      ],
      "metadata": {
        "id": "5S-aQ20iezJP"
      },
      "id": "5S-aQ20iezJP"
    },
    {
      "cell_type": "markdown",
      "source": [
        "# Learner's considerations and background before we start\n",
        "\n",
        "As this is my first project being submitted as part of the Walsh DBA Bridge Program and, as I have taken the AIML course in 2021 (when the submission process was a bit different), I just wanted to clarify what I will be doing in this notebook.\n",
        "\n",
        "I am opting for a full code version at this point, as one of my aims is to increase my own proficiency in Python.\n",
        "\n",
        "Some of the code I will be using throughout this notebook are leveraged from previously submitted notebooks from AIML (back from my 2021 notes). Such codes may contain snippets from shared notebooks from Great Learning instructors over the period. When that is the case, I will ensure there are comments mentioning this. I'll also explain how the code works, even in such cases where code is being reused.\n",
        "\n",
        "This notebook is being worked and saved in Dark Mode using Google Colab in Microsoft Edge Version 138.0.3351.95 (Official build) (64-bit) in case of incomatibility."
      ],
      "metadata": {
        "id": "XtZnFRpqfTuy"
      },
      "id": "XtZnFRpqfTuy"
    },
    {
      "cell_type": "markdown",
      "metadata": {
        "id": "6yDxo9u0d9Na"
      },
      "source": [
        "# <a id = \"link1\"></a>Context and Problem Statement\n"
      ],
      "id": "6yDxo9u0d9Na"
    },
    {
      "cell_type": "markdown",
      "metadata": {
        "id": "SrLd-ICEmPSD"
      },
      "source": [
        "## Define Problem Statement and Objectives\n",
        "\n",
        "The text below has been imported from Great Learning Problem Statement page and will serve as the key reference for what we intend to do throught this exercise."
      ],
      "id": "SrLd-ICEmPSD"
    },
    {
      "cell_type": "markdown",
      "source": [
        "## Business Context\n",
        "\n",
        "The advent of e-news, or electronic news, portals has offered us a great opportunity to quickly get updates on the day-to-day events occurring globally. The information on these portals is retrieved electronically from online databases, processed using a variety of software, and then transmitted to the users. There are multiple advantages of transmitting new electronically, like faster access to the content and the ability to utilize different technologies such as audio, graphics, video, and other interactive elements that are either not being used or aren’t common yet in traditional newspapers.\n",
        "\n",
        "E-news Express, an online news portal, aims to expand its business by acquiring new subscribers. With every visitor to the website taking certain actions based on their interest, the company plans to analyze these actions to understand user interests and determine how to drive better engagement.  The executives at E-news Express are of the opinion that there has been a decline in new monthly subscribers compared to the past year because the current webpage is not designed well enough in terms of the outline & recommended content to keep customers engaged long enough to make a decision to subscribe.\n",
        "\n",
        "[Companies often analyze user responses to two variants of a product to decide which of the two variants is more effective. This experimental technique, known as A/B testing, is used to determine whether a new feature attracts users based on a chosen metric.]"
      ],
      "metadata": {
        "id": "gMNxfBJk9HI_"
      },
      "id": "gMNxfBJk9HI_"
    },
    {
      "cell_type": "markdown",
      "source": [
        "## Objective\n",
        "\n",
        "The design team of the company has researched and created a new landing page that has a new outline & more relevant content shown compared to the old page. In order to test the effectiveness of the new landing page in gathering new subscribers, the Data Science team conducted an experiment by randomly selecting 100 users and dividing them equally into two groups. The existing landing page was served to the first group (control group) and the new landing page to the second group (treatment group). Data regarding the interaction of users in both groups with the two versions of the landing page was collected. Being a data scientist in E-news Express, you have been asked to explore the data and perform a statistical analysis (at a significance level of 5%) to determine the effectiveness of the new landing page in gathering new subscribers for the news portal by answering the following questions:\n",
        "\n",
        "1. Do the users spend more time on the new landing page than on the existing landing page?\n",
        "\n",
        "2. Is the conversion rate (the proportion of users who visit the landing page and get converted) for the new page greater than the conversion rate for the old page?\n",
        "\n",
        "3. Does the converted status depend on the preferred language? [Hint: Create a contingency table using the pandas.crosstab() function]\n",
        "\n",
        "4. Is the time spent on the new page the same for the different language users?"
      ],
      "metadata": {
        "id": "Yty5EAZW-rfV"
      },
      "id": "Yty5EAZW-rfV"
    },
    {
      "cell_type": "markdown",
      "source": [
        "#Starting with the Code"
      ],
      "metadata": {
        "id": "nutcHj0L-yqu"
      },
      "id": "nutcHj0L-yqu"
    },
    {
      "cell_type": "markdown",
      "metadata": {
        "id": "a6a3d218"
      },
      "source": [
        "## Import all the necessary libraries"
      ],
      "id": "a6a3d218"
    },
    {
      "cell_type": "markdown",
      "source": [
        "The snippet below has been suggested in the original low code notebook provided.\n",
        "However, during the execution of the notebook, I did not feel the need to change or updgrade the versions below.\n",
        "\n",
        "I am keeping the code commented out for reference."
      ],
      "metadata": {
        "id": "Ytc0o36Q-6ZY"
      },
      "id": "Ytc0o36Q-6ZY"
    },
    {
      "cell_type": "code",
      "source": [
        "# Installing the libraries with the specified version.\n",
        "#!pip install numpy==1.25.2 pandas==1.5.3 matplotlib==3.7.1 seaborn==0.13.1 scipy==1.11.4 -q --user"
      ],
      "metadata": {
        "id": "r_5zUIePGS-1"
      },
      "id": "r_5zUIePGS-1",
      "execution_count": 1,
      "outputs": []
    },
    {
      "cell_type": "markdown",
      "source": [
        "Importing the libraries without specifying their versions:"
      ],
      "metadata": {
        "id": "dFkYhJvO_bkq"
      },
      "id": "dFkYhJvO_bkq"
    },
    {
      "cell_type": "code",
      "source": [
        "import numpy as np\n",
        "import pandas as pd\n",
        "import matplotlib\n",
        "from matplotlib import pyplot as plt\n",
        "import seaborn as sns"
      ],
      "metadata": {
        "id": "7mFlcwLO_b-9"
      },
      "id": "7mFlcwLO_b-9",
      "execution_count": 2,
      "outputs": []
    },
    {
      "cell_type": "markdown",
      "source": [
        "I will print out the versions of the imported libraries below. All are newer versions than the ones suggested above, so I'm going with them."
      ],
      "metadata": {
        "id": "DAaycw-QP-j9"
      },
      "id": "DAaycw-QP-j9"
    },
    {
      "cell_type": "code",
      "metadata": {
        "id": "658c5dec",
        "colab": {
          "base_uri": "https://localhost:8080/"
        },
        "outputId": "2a38a0f3-47fe-42aa-bdac-259b3fba11c5"
      },
      "source": [
        "print(f\"numpy version: {np.__version__}\")\n",
        "print(f\"pandas version: {pd.__version__}\")\n",
        "print(f\"matplotlib version: {matplotlib.__version__}\")\n",
        "print(f\"seaborn version: {sns.__version__}\")"
      ],
      "id": "658c5dec",
      "execution_count": 3,
      "outputs": [
        {
          "output_type": "stream",
          "name": "stdout",
          "text": [
            "numpy version: 2.0.2\n",
            "pandas version: 2.2.2\n",
            "matplotlib version: 3.10.0\n",
            "seaborn version: 0.13.2\n"
          ]
        }
      ]
    },
    {
      "cell_type": "markdown",
      "metadata": {
        "id": "6970dd99"
      },
      "source": [
        "## Reading the Data into a DataFrame"
      ],
      "id": "6970dd99"
    },
    {
      "cell_type": "markdown",
      "source": [
        "Mounting the drive requires permission to access your Google Drive.\n",
        "\n",
        "Every time it is executed, a pop window shows up, and you have to give consent for access.\n",
        "![image.png](data:image/png;base64,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)"
      ],
      "metadata": {
        "id": "OvV09xk7p2TG"
      },
      "id": "OvV09xk7p2TG"
    },
    {
      "cell_type": "code",
      "metadata": {
        "id": "d3b95640",
        "colab": {
          "base_uri": "https://localhost:8080/"
        },
        "outputId": "55883390-3524-475c-d20c-9593ba212f65"
      },
      "source": [
        "from google.colab import drive\n",
        "drive.mount('/content/drive')"
      ],
      "id": "d3b95640",
      "execution_count": 4,
      "outputs": [
        {
          "output_type": "stream",
          "name": "stdout",
          "text": [
            "Mounted at /content/drive\n"
          ]
        }
      ]
    },
    {
      "cell_type": "code",
      "source": [
        "# Reading from CSV file\n",
        "# Even though the drive is mounted at /content/drive, it is still requiring the full path for reading.\n",
        "df = pd.read_csv('/content/drive/MyDrive/Walsh/1 - Stats/abtest.csv')"
      ],
      "metadata": {
        "id": "XRx7eFjEontr"
      },
      "id": "XRx7eFjEontr",
      "execution_count": 5,
      "outputs": []
    },
    {
      "cell_type": "markdown",
      "metadata": {
        "id": "9d75cfa2"
      },
      "source": [
        "## Explore the dataset and extract insights using Exploratory Data Analysis"
      ],
      "id": "9d75cfa2"
    },
    {
      "cell_type": "markdown",
      "metadata": {
        "id": "27201534"
      },
      "source": [
        "The below are the requests:\n",
        "\n",
        "- Data Overview\n",
        "  - Viewing the first and last few rows of the dataset\n",
        "  - Checking the shape of the dataset\n",
        "  - Getting the statistical summary for the variables\n",
        "- Check for missing values\n",
        "- Check for duplicates"
      ],
      "id": "27201534"
    },
    {
      "cell_type": "markdown",
      "source": [
        "I usually work with a ultra-wide screen and found the below code snipped very useful as it wide-expands to 70% of the screen.\n",
        "\n",
        "Otherwise the dataframes, tables and plots are only displayed within a confined area on the screen.\n",
        "\n",
        "I may choose to comment it out when exporting this notebook to HTML, but I did use it when working this assignment."
      ],
      "metadata": {
        "id": "9FCvqNPMs1Jf"
      },
      "id": "9FCvqNPMs1Jf"
    },
    {
      "cell_type": "code",
      "metadata": {
        "id": "e1ad11d4",
        "colab": {
          "base_uri": "https://localhost:8080/",
          "height": 17
        },
        "outputId": "7d5b26fc-55b2-4f54-d7fb-8836fff01c29"
      },
      "source": [
        "from IPython.core.display import display, HTML\n",
        "display(HTML(\"<style>.container { width:70% !important; }</style>\"))\n",
        "display(HTML(\"<style>.output_result { max-width:70% !important; }</style>\"))\n",
        "#display(HTML(\"<style>.prompt { display:none !important; }</style>\"))"
      ],
      "id": "e1ad11d4",
      "execution_count": 6,
      "outputs": [
        {
          "output_type": "display_data",
          "data": {
            "text/plain": [
              "<IPython.core.display.HTML object>"
            ],
            "text/html": [
              "<style>.container { width:70% !important; }</style>"
            ]
          },
          "metadata": {}
        },
        {
          "output_type": "display_data",
          "data": {
            "text/plain": [
              "<IPython.core.display.HTML object>"
            ],
            "text/html": [
              "<style>.output_result { max-width:70% !important; }</style>"
            ]
          },
          "metadata": {}
        }
      ]
    },
    {
      "cell_type": "markdown",
      "source": [
        "Checking the first few records"
      ],
      "metadata": {
        "id": "6nl_KtiTtxLE"
      },
      "id": "6nl_KtiTtxLE"
    },
    {
      "cell_type": "code",
      "source": [
        "# Default is top 5 rows, but I see some value in seeing more. Going for 10 here.\n",
        "df.head(10)"
      ],
      "metadata": {
        "colab": {
          "base_uri": "https://localhost:8080/",
          "height": 363
        },
        "id": "M0og0bp2tx5O",
        "outputId": "0fe4a937-6b7b-43cc-f1f6-c1e318c194fb"
      },
      "id": "M0og0bp2tx5O",
      "execution_count": 7,
      "outputs": [
        {
          "output_type": "execute_result",
          "data": {
            "text/plain": [
              "   user_id      group landing_page  time_spent_on_the_page converted  \\\n",
              "0   546592    control          old                    3.48        no   \n",
              "1   546468  treatment          new                    7.13       yes   \n",
              "2   546462  treatment          new                    4.40        no   \n",
              "3   546567    control          old                    3.02        no   \n",
              "4   546459  treatment          new                    4.75       yes   \n",
              "5   546558    control          old                    5.28       yes   \n",
              "6   546448  treatment          new                    5.25       yes   \n",
              "7   546581    control          old                    6.53       yes   \n",
              "8   546461  treatment          new                   10.71       yes   \n",
              "9   546548    control          old                    2.08        no   \n",
              "\n",
              "  language_preferred  \n",
              "0            Spanish  \n",
              "1            English  \n",
              "2            Spanish  \n",
              "3             French  \n",
              "4            Spanish  \n",
              "5            English  \n",
              "6             French  \n",
              "7            Spanish  \n",
              "8             French  \n",
              "9            English  "
            ],
            "text/html": [
              "\n",
              "  <div id=\"df-d655e716-4afe-4418-a51d-5f1707856d41\" class=\"colab-df-container\">\n",
              "    <div>\n",
              "<style scoped>\n",
              "    .dataframe tbody tr th:only-of-type {\n",
              "        vertical-align: middle;\n",
              "    }\n",
              "\n",
              "    .dataframe tbody tr th {\n",
              "        vertical-align: top;\n",
              "    }\n",
              "\n",
              "    .dataframe thead th {\n",
              "        text-align: right;\n",
              "    }\n",
              "</style>\n",
              "<table border=\"1\" class=\"dataframe\">\n",
              "  <thead>\n",
              "    <tr style=\"text-align: right;\">\n",
              "      <th></th>\n",
              "      <th>user_id</th>\n",
              "      <th>group</th>\n",
              "      <th>landing_page</th>\n",
              "      <th>time_spent_on_the_page</th>\n",
              "      <th>converted</th>\n",
              "      <th>language_preferred</th>\n",
              "    </tr>\n",
              "  </thead>\n",
              "  <tbody>\n",
              "    <tr>\n",
              "      <th>0</th>\n",
              "      <td>546592</td>\n",
              "      <td>control</td>\n",
              "      <td>old</td>\n",
              "      <td>3.48</td>\n",
              "      <td>no</td>\n",
              "      <td>Spanish</td>\n",
              "    </tr>\n",
              "    <tr>\n",
              "      <th>1</th>\n",
              "      <td>546468</td>\n",
              "      <td>treatment</td>\n",
              "      <td>new</td>\n",
              "      <td>7.13</td>\n",
              "      <td>yes</td>\n",
              "      <td>English</td>\n",
              "    </tr>\n",
              "    <tr>\n",
              "      <th>2</th>\n",
              "      <td>546462</td>\n",
              "      <td>treatment</td>\n",
              "      <td>new</td>\n",
              "      <td>4.40</td>\n",
              "      <td>no</td>\n",
              "      <td>Spanish</td>\n",
              "    </tr>\n",
              "    <tr>\n",
              "      <th>3</th>\n",
              "      <td>546567</td>\n",
              "      <td>control</td>\n",
              "      <td>old</td>\n",
              "      <td>3.02</td>\n",
              "      <td>no</td>\n",
              "      <td>French</td>\n",
              "    </tr>\n",
              "    <tr>\n",
              "      <th>4</th>\n",
              "      <td>546459</td>\n",
              "      <td>treatment</td>\n",
              "      <td>new</td>\n",
              "      <td>4.75</td>\n",
              "      <td>yes</td>\n",
              "      <td>Spanish</td>\n",
              "    </tr>\n",
              "    <tr>\n",
              "      <th>5</th>\n",
              "      <td>546558</td>\n",
              "      <td>control</td>\n",
              "      <td>old</td>\n",
              "      <td>5.28</td>\n",
              "      <td>yes</td>\n",
              "      <td>English</td>\n",
              "    </tr>\n",
              "    <tr>\n",
              "      <th>6</th>\n",
              "      <td>546448</td>\n",
              "      <td>treatment</td>\n",
              "      <td>new</td>\n",
              "      <td>5.25</td>\n",
              "      <td>yes</td>\n",
              "      <td>French</td>\n",
              "    </tr>\n",
              "    <tr>\n",
              "      <th>7</th>\n",
              "      <td>546581</td>\n",
              "      <td>control</td>\n",
              "      <td>old</td>\n",
              "      <td>6.53</td>\n",
              "      <td>yes</td>\n",
              "      <td>Spanish</td>\n",
              "    </tr>\n",
              "    <tr>\n",
              "      <th>8</th>\n",
              "      <td>546461</td>\n",
              "      <td>treatment</td>\n",
              "      <td>new</td>\n",
              "      <td>10.71</td>\n",
              "      <td>yes</td>\n",
              "      <td>French</td>\n",
              "    </tr>\n",
              "    <tr>\n",
              "      <th>9</th>\n",
              "      <td>546548</td>\n",
              "      <td>control</td>\n",
              "      <td>old</td>\n",
              "      <td>2.08</td>\n",
              "      <td>no</td>\n",
              "      <td>English</td>\n",
              "    </tr>\n",
              "  </tbody>\n",
              "</table>\n",
              "</div>\n",
              "    <div class=\"colab-df-buttons\">\n",
              "\n",
              "  <div class=\"colab-df-container\">\n",
              "    <button class=\"colab-df-convert\" onclick=\"convertToInteractive('df-d655e716-4afe-4418-a51d-5f1707856d41')\"\n",
              "            title=\"Convert this dataframe to an interactive table.\"\n",
              "            style=\"display:none;\">\n",
              "\n",
              "  <svg xmlns=\"http://www.w3.org/2000/svg\" height=\"24px\" viewBox=\"0 -960 960 960\">\n",
              "    <path d=\"M120-120v-720h720v720H120Zm60-500h600v-160H180v160Zm220 220h160v-160H400v160Zm0 220h160v-160H400v160ZM180-400h160v-160H180v160Zm440 0h160v-160H620v160ZM180-180h160v-160H180v160Zm440 0h160v-160H620v160Z\"/>\n",
              "  </svg>\n",
              "    </button>\n",
              "\n",
              "  <style>\n",
              "    .colab-df-container {\n",
              "      display:flex;\n",
              "      gap: 12px;\n",
              "    }\n",
              "\n",
              "    .colab-df-convert {\n",
              "      background-color: #E8F0FE;\n",
              "      border: none;\n",
              "      border-radius: 50%;\n",
              "      cursor: pointer;\n",
              "      display: none;\n",
              "      fill: #1967D2;\n",
              "      height: 32px;\n",
              "      padding: 0 0 0 0;\n",
              "      width: 32px;\n",
              "    }\n",
              "\n",
              "    .colab-df-convert:hover {\n",
              "      background-color: #E2EBFA;\n",
              "      box-shadow: 0px 1px 2px rgba(60, 64, 67, 0.3), 0px 1px 3px 1px rgba(60, 64, 67, 0.15);\n",
              "      fill: #174EA6;\n",
              "    }\n",
              "\n",
              "    .colab-df-buttons div {\n",
              "      margin-bottom: 4px;\n",
              "    }\n",
              "\n",
              "    [theme=dark] .colab-df-convert {\n",
              "      background-color: #3B4455;\n",
              "      fill: #D2E3FC;\n",
              "    }\n",
              "\n",
              "    [theme=dark] .colab-df-convert:hover {\n",
              "      background-color: #434B5C;\n",
              "      box-shadow: 0px 1px 3px 1px rgba(0, 0, 0, 0.15);\n",
              "      filter: drop-shadow(0px 1px 2px rgba(0, 0, 0, 0.3));\n",
              "      fill: #FFFFFF;\n",
              "    }\n",
              "  </style>\n",
              "\n",
              "    <script>\n",
              "      const buttonEl =\n",
              "        document.querySelector('#df-d655e716-4afe-4418-a51d-5f1707856d41 button.colab-df-convert');\n",
              "      buttonEl.style.display =\n",
              "        google.colab.kernel.accessAllowed ? 'block' : 'none';\n",
              "\n",
              "      async function convertToInteractive(key) {\n",
              "        const element = document.querySelector('#df-d655e716-4afe-4418-a51d-5f1707856d41');\n",
              "        const dataTable =\n",
              "          await google.colab.kernel.invokeFunction('convertToInteractive',\n",
              "                                                    [key], {});\n",
              "        if (!dataTable) return;\n",
              "\n",
              "        const docLinkHtml = 'Like what you see? Visit the ' +\n",
              "          '<a target=\"_blank\" href=https://colab.research.google.com/notebooks/data_table.ipynb>data table notebook</a>'\n",
              "          + ' to learn more about interactive tables.';\n",
              "        element.innerHTML = '';\n",
              "        dataTable['output_type'] = 'display_data';\n",
              "        await google.colab.output.renderOutput(dataTable, element);\n",
              "        const docLink = document.createElement('div');\n",
              "        docLink.innerHTML = docLinkHtml;\n",
              "        element.appendChild(docLink);\n",
              "      }\n",
              "    </script>\n",
              "  </div>\n",
              "\n",
              "\n",
              "    <div id=\"df-01fdbb09-690c-40d7-a597-dab8e9bbac25\">\n",
              "      <button class=\"colab-df-quickchart\" onclick=\"quickchart('df-01fdbb09-690c-40d7-a597-dab8e9bbac25')\"\n",
              "                title=\"Suggest charts\"\n",
              "                style=\"display:none;\">\n",
              "\n",
              "<svg xmlns=\"http://www.w3.org/2000/svg\" height=\"24px\"viewBox=\"0 0 24 24\"\n",
              "     width=\"24px\">\n",
              "    <g>\n",
              "        <path d=\"M19 3H5c-1.1 0-2 .9-2 2v14c0 1.1.9 2 2 2h14c1.1 0 2-.9 2-2V5c0-1.1-.9-2-2-2zM9 17H7v-7h2v7zm4 0h-2V7h2v10zm4 0h-2v-4h2v4z\"/>\n",
              "    </g>\n",
              "</svg>\n",
              "      </button>\n",
              "\n",
              "<style>\n",
              "  .colab-df-quickchart {\n",
              "      --bg-color: #E8F0FE;\n",
              "      --fill-color: #1967D2;\n",
              "      --hover-bg-color: #E2EBFA;\n",
              "      --hover-fill-color: #174EA6;\n",
              "      --disabled-fill-color: #AAA;\n",
              "      --disabled-bg-color: #DDD;\n",
              "  }\n",
              "\n",
              "  [theme=dark] .colab-df-quickchart {\n",
              "      --bg-color: #3B4455;\n",
              "      --fill-color: #D2E3FC;\n",
              "      --hover-bg-color: #434B5C;\n",
              "      --hover-fill-color: #FFFFFF;\n",
              "      --disabled-bg-color: #3B4455;\n",
              "      --disabled-fill-color: #666;\n",
              "  }\n",
              "\n",
              "  .colab-df-quickchart {\n",
              "    background-color: var(--bg-color);\n",
              "    border: none;\n",
              "    border-radius: 50%;\n",
              "    cursor: pointer;\n",
              "    display: none;\n",
              "    fill: var(--fill-color);\n",
              "    height: 32px;\n",
              "    padding: 0;\n",
              "    width: 32px;\n",
              "  }\n",
              "\n",
              "  .colab-df-quickchart:hover {\n",
              "    background-color: var(--hover-bg-color);\n",
              "    box-shadow: 0 1px 2px rgba(60, 64, 67, 0.3), 0 1px 3px 1px rgba(60, 64, 67, 0.15);\n",
              "    fill: var(--button-hover-fill-color);\n",
              "  }\n",
              "\n",
              "  .colab-df-quickchart-complete:disabled,\n",
              "  .colab-df-quickchart-complete:disabled:hover {\n",
              "    background-color: var(--disabled-bg-color);\n",
              "    fill: var(--disabled-fill-color);\n",
              "    box-shadow: none;\n",
              "  }\n",
              "\n",
              "  .colab-df-spinner {\n",
              "    border: 2px solid var(--fill-color);\n",
              "    border-color: transparent;\n",
              "    border-bottom-color: var(--fill-color);\n",
              "    animation:\n",
              "      spin 1s steps(1) infinite;\n",
              "  }\n",
              "\n",
              "  @keyframes spin {\n",
              "    0% {\n",
              "      border-color: transparent;\n",
              "      border-bottom-color: var(--fill-color);\n",
              "      border-left-color: var(--fill-color);\n",
              "    }\n",
              "    20% {\n",
              "      border-color: transparent;\n",
              "      border-left-color: var(--fill-color);\n",
              "      border-top-color: var(--fill-color);\n",
              "    }\n",
              "    30% {\n",
              "      border-color: transparent;\n",
              "      border-left-color: var(--fill-color);\n",
              "      border-top-color: var(--fill-color);\n",
              "      border-right-color: var(--fill-color);\n",
              "    }\n",
              "    40% {\n",
              "      border-color: transparent;\n",
              "      border-right-color: var(--fill-color);\n",
              "      border-top-color: var(--fill-color);\n",
              "    }\n",
              "    60% {\n",
              "      border-color: transparent;\n",
              "      border-right-color: var(--fill-color);\n",
              "    }\n",
              "    80% {\n",
              "      border-color: transparent;\n",
              "      border-right-color: var(--fill-color);\n",
              "      border-bottom-color: var(--fill-color);\n",
              "    }\n",
              "    90% {\n",
              "      border-color: transparent;\n",
              "      border-bottom-color: var(--fill-color);\n",
              "    }\n",
              "  }\n",
              "</style>\n",
              "\n",
              "      <script>\n",
              "        async function quickchart(key) {\n",
              "          const quickchartButtonEl =\n",
              "            document.querySelector('#' + key + ' button');\n",
              "          quickchartButtonEl.disabled = true;  // To prevent multiple clicks.\n",
              "          quickchartButtonEl.classList.add('colab-df-spinner');\n",
              "          try {\n",
              "            const charts = await google.colab.kernel.invokeFunction(\n",
              "                'suggestCharts', [key], {});\n",
              "          } catch (error) {\n",
              "            console.error('Error during call to suggestCharts:', error);\n",
              "          }\n",
              "          quickchartButtonEl.classList.remove('colab-df-spinner');\n",
              "          quickchartButtonEl.classList.add('colab-df-quickchart-complete');\n",
              "        }\n",
              "        (() => {\n",
              "          let quickchartButtonEl =\n",
              "            document.querySelector('#df-01fdbb09-690c-40d7-a597-dab8e9bbac25 button');\n",
              "          quickchartButtonEl.style.display =\n",
              "            google.colab.kernel.accessAllowed ? 'block' : 'none';\n",
              "        })();\n",
              "      </script>\n",
              "    </div>\n",
              "\n",
              "    </div>\n",
              "  </div>\n"
            ],
            "application/vnd.google.colaboratory.intrinsic+json": {
              "type": "dataframe",
              "variable_name": "df",
              "summary": "{\n  \"name\": \"df\",\n  \"rows\": 100,\n  \"fields\": [\n    {\n      \"column\": \"user_id\",\n      \"properties\": {\n        \"dtype\": \"number\",\n        \"std\": 52,\n        \"min\": 546443,\n        \"max\": 546592,\n        \"num_unique_values\": 100,\n        \"samples\": [\n          546580,\n          546576,\n          546568\n        ],\n        \"semantic_type\": \"\",\n        \"description\": \"\"\n      }\n    },\n    {\n      \"column\": \"group\",\n      \"properties\": {\n        \"dtype\": \"category\",\n        \"num_unique_values\": 2,\n        \"samples\": [\n          \"treatment\",\n          \"control\"\n        ],\n        \"semantic_type\": \"\",\n        \"description\": \"\"\n      }\n    },\n    {\n      \"column\": \"landing_page\",\n      \"properties\": {\n        \"dtype\": \"category\",\n        \"num_unique_values\": 2,\n        \"samples\": [\n          \"new\",\n          \"old\"\n        ],\n        \"semantic_type\": \"\",\n        \"description\": \"\"\n      }\n    },\n    {\n      \"column\": \"time_spent_on_the_page\",\n      \"properties\": {\n        \"dtype\": \"number\",\n        \"std\": 2.378166078933492,\n        \"min\": 0.19,\n        \"max\": 10.71,\n        \"num_unique_values\": 94,\n        \"samples\": [\n          8.46,\n          3.65\n        ],\n        \"semantic_type\": \"\",\n        \"description\": \"\"\n      }\n    },\n    {\n      \"column\": \"converted\",\n      \"properties\": {\n        \"dtype\": \"category\",\n        \"num_unique_values\": 2,\n        \"samples\": [\n          \"yes\",\n          \"no\"\n        ],\n        \"semantic_type\": \"\",\n        \"description\": \"\"\n      }\n    },\n    {\n      \"column\": \"language_preferred\",\n      \"properties\": {\n        \"dtype\": \"category\",\n        \"num_unique_values\": 3,\n        \"samples\": [\n          \"Spanish\",\n          \"English\"\n        ],\n        \"semantic_type\": \"\",\n        \"description\": \"\"\n      }\n    }\n  ]\n}"
            }
          },
          "metadata": {},
          "execution_count": 7
        }
      ]
    },
    {
      "cell_type": "markdown",
      "source": [
        "Structure matches the data dictionay.\n",
        "\n",
        "1. user_id - Unique user ID of the person visiting the website\n",
        "\n",
        "2. group - Whether the user belongs to the first group (control) or the second group (treatment)\n",
        "\n",
        "3. landing_page - Whether the landing page is new or old\n",
        "\n",
        "4. time_spent_on_the_page - Time (in minutes) spent by the user on the landing page\n",
        "\n",
        "5. converted - Whether the user gets converted to a subscriber of the news portal or not\n",
        "\n",
        "6. language_preferred - Language chosen by the user to view the landing page"
      ],
      "metadata": {
        "id": "5mPlwRfWuOmA"
      },
      "id": "5mPlwRfWuOmA"
    },
    {
      "cell_type": "code",
      "source": [
        "#Checking the data type of each column as well as whether or not we have null values\n",
        "df.info()"
      ],
      "metadata": {
        "colab": {
          "base_uri": "https://localhost:8080/"
        },
        "id": "srCThf-2wOQO",
        "outputId": "3937e7de-832e-4d3e-bae9-e3b5df71a6d4"
      },
      "id": "srCThf-2wOQO",
      "execution_count": 8,
      "outputs": [
        {
          "output_type": "stream",
          "name": "stdout",
          "text": [
            "<class 'pandas.core.frame.DataFrame'>\n",
            "RangeIndex: 100 entries, 0 to 99\n",
            "Data columns (total 6 columns):\n",
            " #   Column                  Non-Null Count  Dtype  \n",
            "---  ------                  --------------  -----  \n",
            " 0   user_id                 100 non-null    int64  \n",
            " 1   group                   100 non-null    object \n",
            " 2   landing_page            100 non-null    object \n",
            " 3   time_spent_on_the_page  100 non-null    float64\n",
            " 4   converted               100 non-null    object \n",
            " 5   language_preferred      100 non-null    object \n",
            "dtypes: float64(1), int64(1), object(4)\n",
            "memory usage: 4.8+ KB\n"
          ]
        }
      ]
    },
    {
      "cell_type": "code",
      "source": [
        "#We have the information above that there's no null values. But the code below gives a better view of the same information.\n",
        "df.isnull().sum()"
      ],
      "metadata": {
        "colab": {
          "base_uri": "https://localhost:8080/",
          "height": 272
        },
        "id": "TzkRBVnAxWGi",
        "outputId": "6caa4770-9e7f-40e1-de34-414d91b28b84"
      },
      "id": "TzkRBVnAxWGi",
      "execution_count": 9,
      "outputs": [
        {
          "output_type": "execute_result",
          "data": {
            "text/plain": [
              "user_id                   0\n",
              "group                     0\n",
              "landing_page              0\n",
              "time_spent_on_the_page    0\n",
              "converted                 0\n",
              "language_preferred        0\n",
              "dtype: int64"
            ],
            "text/html": [
              "<div>\n",
              "<style scoped>\n",
              "    .dataframe tbody tr th:only-of-type {\n",
              "        vertical-align: middle;\n",
              "    }\n",
              "\n",
              "    .dataframe tbody tr th {\n",
              "        vertical-align: top;\n",
              "    }\n",
              "\n",
              "    .dataframe thead th {\n",
              "        text-align: right;\n",
              "    }\n",
              "</style>\n",
              "<table border=\"1\" class=\"dataframe\">\n",
              "  <thead>\n",
              "    <tr style=\"text-align: right;\">\n",
              "      <th></th>\n",
              "      <th>0</th>\n",
              "    </tr>\n",
              "  </thead>\n",
              "  <tbody>\n",
              "    <tr>\n",
              "      <th>user_id</th>\n",
              "      <td>0</td>\n",
              "    </tr>\n",
              "    <tr>\n",
              "      <th>group</th>\n",
              "      <td>0</td>\n",
              "    </tr>\n",
              "    <tr>\n",
              "      <th>landing_page</th>\n",
              "      <td>0</td>\n",
              "    </tr>\n",
              "    <tr>\n",
              "      <th>time_spent_on_the_page</th>\n",
              "      <td>0</td>\n",
              "    </tr>\n",
              "    <tr>\n",
              "      <th>converted</th>\n",
              "      <td>0</td>\n",
              "    </tr>\n",
              "    <tr>\n",
              "      <th>language_preferred</th>\n",
              "      <td>0</td>\n",
              "    </tr>\n",
              "  </tbody>\n",
              "</table>\n",
              "</div><br><label><b>dtype:</b> int64</label>"
            ]
          },
          "metadata": {},
          "execution_count": 9
        }
      ]
    },
    {
      "cell_type": "markdown",
      "source": [
        "Fortuntely we have no null values, so there's no need for any actions here.\n",
        "\n",
        "User ID may not be a relevant field, as it doesn't seem to contain business value in it. I'll soon check uniqueness and other attributes.\n",
        "\n",
        "Most fields seem to be categorical. Only \"Time Spent on Page\" is numerical and continuous.\n",
        "\n",
        "Even though there is only 1 numberical feature, let me break the dataframe into the numerical and categorical features for 1) clarity and adaptability of the process and 2) differentiate them in their analysis."
      ],
      "metadata": {
        "id": "iHvDO_1NwRol"
      },
      "id": "iHvDO_1NwRol"
    },
    {
      "cell_type": "code",
      "source": [
        "numeric_cols=['time_spent_on_the_page']\n",
        "\n",
        "category_cols=['group',\n",
        "'landing_page',\n",
        "'converted',\n",
        "'language_preferred']"
      ],
      "metadata": {
        "id": "pIu4ZLqny7Sk"
      },
      "id": "pIu4ZLqny7Sk",
      "execution_count": 10,
      "outputs": []
    },
    {
      "cell_type": "markdown",
      "source": [
        "And also let me check the number of unique values in each column, categorical and numerical."
      ],
      "metadata": {
        "id": "03DV6vcBzgdk"
      },
      "id": "03DV6vcBzgdk"
    },
    {
      "cell_type": "code",
      "source": [
        "df.nunique()"
      ],
      "metadata": {
        "colab": {
          "base_uri": "https://localhost:8080/",
          "height": 272
        },
        "id": "CAGIt_9izg7T",
        "outputId": "d6924b66-e331-4c93-8411-0390c6aba72a"
      },
      "id": "CAGIt_9izg7T",
      "execution_count": 11,
      "outputs": [
        {
          "output_type": "execute_result",
          "data": {
            "text/plain": [
              "user_id                   100\n",
              "group                       2\n",
              "landing_page                2\n",
              "time_spent_on_the_page     94\n",
              "converted                   2\n",
              "language_preferred          3\n",
              "dtype: int64"
            ],
            "text/html": [
              "<div>\n",
              "<style scoped>\n",
              "    .dataframe tbody tr th:only-of-type {\n",
              "        vertical-align: middle;\n",
              "    }\n",
              "\n",
              "    .dataframe tbody tr th {\n",
              "        vertical-align: top;\n",
              "    }\n",
              "\n",
              "    .dataframe thead th {\n",
              "        text-align: right;\n",
              "    }\n",
              "</style>\n",
              "<table border=\"1\" class=\"dataframe\">\n",
              "  <thead>\n",
              "    <tr style=\"text-align: right;\">\n",
              "      <th></th>\n",
              "      <th>0</th>\n",
              "    </tr>\n",
              "  </thead>\n",
              "  <tbody>\n",
              "    <tr>\n",
              "      <th>user_id</th>\n",
              "      <td>100</td>\n",
              "    </tr>\n",
              "    <tr>\n",
              "      <th>group</th>\n",
              "      <td>2</td>\n",
              "    </tr>\n",
              "    <tr>\n",
              "      <th>landing_page</th>\n",
              "      <td>2</td>\n",
              "    </tr>\n",
              "    <tr>\n",
              "      <th>time_spent_on_the_page</th>\n",
              "      <td>94</td>\n",
              "    </tr>\n",
              "    <tr>\n",
              "      <th>converted</th>\n",
              "      <td>2</td>\n",
              "    </tr>\n",
              "    <tr>\n",
              "      <th>language_preferred</th>\n",
              "      <td>3</td>\n",
              "    </tr>\n",
              "  </tbody>\n",
              "</table>\n",
              "</div><br><label><b>dtype:</b> int64</label>"
            ]
          },
          "metadata": {},
          "execution_count": 11
        }
      ]
    },
    {
      "cell_type": "markdown",
      "source": [
        "As expected:\n",
        "- Only 2 groups\n",
        "- Only 2 values for landing page\n",
        "- Only 2 values for Converted\n",
        "- 3 languages\n",
        "- Barely no exact repeat of the time spent on the page.\n",
        "\n",
        "I will list them as part of the univariate analysis in the next section"
      ],
      "metadata": {
        "id": "P-wCdd37ztlB"
      },
      "id": "P-wCdd37ztlB"
    },
    {
      "cell_type": "markdown",
      "metadata": {
        "id": "68f3b2c9"
      },
      "source": [
        "### Univariate Analysis"
      ],
      "id": "68f3b2c9"
    },
    {
      "cell_type": "markdown",
      "source": [
        "Let's start with the only numerical column"
      ],
      "metadata": {
        "id": "zwgtBW7mzSVr"
      },
      "id": "zwgtBW7mzSVr"
    },
    {
      "cell_type": "code",
      "metadata": {
        "id": "1932d0f3",
        "colab": {
          "base_uri": "https://localhost:8080/",
          "height": 300
        },
        "outputId": "58c7f527-dc01-46c9-9537-3284c00ef084"
      },
      "source": [
        "df[numeric_cols].describe()"
      ],
      "id": "1932d0f3",
      "execution_count": 12,
      "outputs": [
        {
          "output_type": "execute_result",
          "data": {
            "text/plain": [
              "       time_spent_on_the_page\n",
              "count              100.000000\n",
              "mean                 5.377800\n",
              "std                  2.378166\n",
              "min                  0.190000\n",
              "25%                  3.880000\n",
              "50%                  5.415000\n",
              "75%                  7.022500\n",
              "max                 10.710000"
            ],
            "text/html": [
              "\n",
              "  <div id=\"df-2fb54bb9-4cda-4cc9-b2f4-e2763c6a7203\" class=\"colab-df-container\">\n",
              "    <div>\n",
              "<style scoped>\n",
              "    .dataframe tbody tr th:only-of-type {\n",
              "        vertical-align: middle;\n",
              "    }\n",
              "\n",
              "    .dataframe tbody tr th {\n",
              "        vertical-align: top;\n",
              "    }\n",
              "\n",
              "    .dataframe thead th {\n",
              "        text-align: right;\n",
              "    }\n",
              "</style>\n",
              "<table border=\"1\" class=\"dataframe\">\n",
              "  <thead>\n",
              "    <tr style=\"text-align: right;\">\n",
              "      <th></th>\n",
              "      <th>time_spent_on_the_page</th>\n",
              "    </tr>\n",
              "  </thead>\n",
              "  <tbody>\n",
              "    <tr>\n",
              "      <th>count</th>\n",
              "      <td>100.000000</td>\n",
              "    </tr>\n",
              "    <tr>\n",
              "      <th>mean</th>\n",
              "      <td>5.377800</td>\n",
              "    </tr>\n",
              "    <tr>\n",
              "      <th>std</th>\n",
              "      <td>2.378166</td>\n",
              "    </tr>\n",
              "    <tr>\n",
              "      <th>min</th>\n",
              "      <td>0.190000</td>\n",
              "    </tr>\n",
              "    <tr>\n",
              "      <th>25%</th>\n",
              "      <td>3.880000</td>\n",
              "    </tr>\n",
              "    <tr>\n",
              "      <th>50%</th>\n",
              "      <td>5.415000</td>\n",
              "    </tr>\n",
              "    <tr>\n",
              "      <th>75%</th>\n",
              "      <td>7.022500</td>\n",
              "    </tr>\n",
              "    <tr>\n",
              "      <th>max</th>\n",
              "      <td>10.710000</td>\n",
              "    </tr>\n",
              "  </tbody>\n",
              "</table>\n",
              "</div>\n",
              "    <div class=\"colab-df-buttons\">\n",
              "\n",
              "  <div class=\"colab-df-container\">\n",
              "    <button class=\"colab-df-convert\" onclick=\"convertToInteractive('df-2fb54bb9-4cda-4cc9-b2f4-e2763c6a7203')\"\n",
              "            title=\"Convert this dataframe to an interactive table.\"\n",
              "            style=\"display:none;\">\n",
              "\n",
              "  <svg xmlns=\"http://www.w3.org/2000/svg\" height=\"24px\" viewBox=\"0 -960 960 960\">\n",
              "    <path d=\"M120-120v-720h720v720H120Zm60-500h600v-160H180v160Zm220 220h160v-160H400v160Zm0 220h160v-160H400v160ZM180-400h160v-160H180v160Zm440 0h160v-160H620v160ZM180-180h160v-160H180v160Zm440 0h160v-160H620v160Z\"/>\n",
              "  </svg>\n",
              "    </button>\n",
              "\n",
              "  <style>\n",
              "    .colab-df-container {\n",
              "      display:flex;\n",
              "      gap: 12px;\n",
              "    }\n",
              "\n",
              "    .colab-df-convert {\n",
              "      background-color: #E8F0FE;\n",
              "      border: none;\n",
              "      border-radius: 50%;\n",
              "      cursor: pointer;\n",
              "      display: none;\n",
              "      fill: #1967D2;\n",
              "      height: 32px;\n",
              "      padding: 0 0 0 0;\n",
              "      width: 32px;\n",
              "    }\n",
              "\n",
              "    .colab-df-convert:hover {\n",
              "      background-color: #E2EBFA;\n",
              "      box-shadow: 0px 1px 2px rgba(60, 64, 67, 0.3), 0px 1px 3px 1px rgba(60, 64, 67, 0.15);\n",
              "      fill: #174EA6;\n",
              "    }\n",
              "\n",
              "    .colab-df-buttons div {\n",
              "      margin-bottom: 4px;\n",
              "    }\n",
              "\n",
              "    [theme=dark] .colab-df-convert {\n",
              "      background-color: #3B4455;\n",
              "      fill: #D2E3FC;\n",
              "    }\n",
              "\n",
              "    [theme=dark] .colab-df-convert:hover {\n",
              "      background-color: #434B5C;\n",
              "      box-shadow: 0px 1px 3px 1px rgba(0, 0, 0, 0.15);\n",
              "      filter: drop-shadow(0px 1px 2px rgba(0, 0, 0, 0.3));\n",
              "      fill: #FFFFFF;\n",
              "    }\n",
              "  </style>\n",
              "\n",
              "    <script>\n",
              "      const buttonEl =\n",
              "        document.querySelector('#df-2fb54bb9-4cda-4cc9-b2f4-e2763c6a7203 button.colab-df-convert');\n",
              "      buttonEl.style.display =\n",
              "        google.colab.kernel.accessAllowed ? 'block' : 'none';\n",
              "\n",
              "      async function convertToInteractive(key) {\n",
              "        const element = document.querySelector('#df-2fb54bb9-4cda-4cc9-b2f4-e2763c6a7203');\n",
              "        const dataTable =\n",
              "          await google.colab.kernel.invokeFunction('convertToInteractive',\n",
              "                                                    [key], {});\n",
              "        if (!dataTable) return;\n",
              "\n",
              "        const docLinkHtml = 'Like what you see? Visit the ' +\n",
              "          '<a target=\"_blank\" href=https://colab.research.google.com/notebooks/data_table.ipynb>data table notebook</a>'\n",
              "          + ' to learn more about interactive tables.';\n",
              "        element.innerHTML = '';\n",
              "        dataTable['output_type'] = 'display_data';\n",
              "        await google.colab.output.renderOutput(dataTable, element);\n",
              "        const docLink = document.createElement('div');\n",
              "        docLink.innerHTML = docLinkHtml;\n",
              "        element.appendChild(docLink);\n",
              "      }\n",
              "    </script>\n",
              "  </div>\n",
              "\n",
              "\n",
              "    <div id=\"df-a2a81d53-d1e8-4e30-b2cc-ca9120030820\">\n",
              "      <button class=\"colab-df-quickchart\" onclick=\"quickchart('df-a2a81d53-d1e8-4e30-b2cc-ca9120030820')\"\n",
              "                title=\"Suggest charts\"\n",
              "                style=\"display:none;\">\n",
              "\n",
              "<svg xmlns=\"http://www.w3.org/2000/svg\" height=\"24px\"viewBox=\"0 0 24 24\"\n",
              "     width=\"24px\">\n",
              "    <g>\n",
              "        <path d=\"M19 3H5c-1.1 0-2 .9-2 2v14c0 1.1.9 2 2 2h14c1.1 0 2-.9 2-2V5c0-1.1-.9-2-2-2zM9 17H7v-7h2v7zm4 0h-2V7h2v10zm4 0h-2v-4h2v4z\"/>\n",
              "    </g>\n",
              "</svg>\n",
              "      </button>\n",
              "\n",
              "<style>\n",
              "  .colab-df-quickchart {\n",
              "      --bg-color: #E8F0FE;\n",
              "      --fill-color: #1967D2;\n",
              "      --hover-bg-color: #E2EBFA;\n",
              "      --hover-fill-color: #174EA6;\n",
              "      --disabled-fill-color: #AAA;\n",
              "      --disabled-bg-color: #DDD;\n",
              "  }\n",
              "\n",
              "  [theme=dark] .colab-df-quickchart {\n",
              "      --bg-color: #3B4455;\n",
              "      --fill-color: #D2E3FC;\n",
              "      --hover-bg-color: #434B5C;\n",
              "      --hover-fill-color: #FFFFFF;\n",
              "      --disabled-bg-color: #3B4455;\n",
              "      --disabled-fill-color: #666;\n",
              "  }\n",
              "\n",
              "  .colab-df-quickchart {\n",
              "    background-color: var(--bg-color);\n",
              "    border: none;\n",
              "    border-radius: 50%;\n",
              "    cursor: pointer;\n",
              "    display: none;\n",
              "    fill: var(--fill-color);\n",
              "    height: 32px;\n",
              "    padding: 0;\n",
              "    width: 32px;\n",
              "  }\n",
              "\n",
              "  .colab-df-quickchart:hover {\n",
              "    background-color: var(--hover-bg-color);\n",
              "    box-shadow: 0 1px 2px rgba(60, 64, 67, 0.3), 0 1px 3px 1px rgba(60, 64, 67, 0.15);\n",
              "    fill: var(--button-hover-fill-color);\n",
              "  }\n",
              "\n",
              "  .colab-df-quickchart-complete:disabled,\n",
              "  .colab-df-quickchart-complete:disabled:hover {\n",
              "    background-color: var(--disabled-bg-color);\n",
              "    fill: var(--disabled-fill-color);\n",
              "    box-shadow: none;\n",
              "  }\n",
              "\n",
              "  .colab-df-spinner {\n",
              "    border: 2px solid var(--fill-color);\n",
              "    border-color: transparent;\n",
              "    border-bottom-color: var(--fill-color);\n",
              "    animation:\n",
              "      spin 1s steps(1) infinite;\n",
              "  }\n",
              "\n",
              "  @keyframes spin {\n",
              "    0% {\n",
              "      border-color: transparent;\n",
              "      border-bottom-color: var(--fill-color);\n",
              "      border-left-color: var(--fill-color);\n",
              "    }\n",
              "    20% {\n",
              "      border-color: transparent;\n",
              "      border-left-color: var(--fill-color);\n",
              "      border-top-color: var(--fill-color);\n",
              "    }\n",
              "    30% {\n",
              "      border-color: transparent;\n",
              "      border-left-color: var(--fill-color);\n",
              "      border-top-color: var(--fill-color);\n",
              "      border-right-color: var(--fill-color);\n",
              "    }\n",
              "    40% {\n",
              "      border-color: transparent;\n",
              "      border-right-color: var(--fill-color);\n",
              "      border-top-color: var(--fill-color);\n",
              "    }\n",
              "    60% {\n",
              "      border-color: transparent;\n",
              "      border-right-color: var(--fill-color);\n",
              "    }\n",
              "    80% {\n",
              "      border-color: transparent;\n",
              "      border-right-color: var(--fill-color);\n",
              "      border-bottom-color: var(--fill-color);\n",
              "    }\n",
              "    90% {\n",
              "      border-color: transparent;\n",
              "      border-bottom-color: var(--fill-color);\n",
              "    }\n",
              "  }\n",
              "</style>\n",
              "\n",
              "      <script>\n",
              "        async function quickchart(key) {\n",
              "          const quickchartButtonEl =\n",
              "            document.querySelector('#' + key + ' button');\n",
              "          quickchartButtonEl.disabled = true;  // To prevent multiple clicks.\n",
              "          quickchartButtonEl.classList.add('colab-df-spinner');\n",
              "          try {\n",
              "            const charts = await google.colab.kernel.invokeFunction(\n",
              "                'suggestCharts', [key], {});\n",
              "          } catch (error) {\n",
              "            console.error('Error during call to suggestCharts:', error);\n",
              "          }\n",
              "          quickchartButtonEl.classList.remove('colab-df-spinner');\n",
              "          quickchartButtonEl.classList.add('colab-df-quickchart-complete');\n",
              "        }\n",
              "        (() => {\n",
              "          let quickchartButtonEl =\n",
              "            document.querySelector('#df-a2a81d53-d1e8-4e30-b2cc-ca9120030820 button');\n",
              "          quickchartButtonEl.style.display =\n",
              "            google.colab.kernel.accessAllowed ? 'block' : 'none';\n",
              "        })();\n",
              "      </script>\n",
              "    </div>\n",
              "\n",
              "    </div>\n",
              "  </div>\n"
            ],
            "application/vnd.google.colaboratory.intrinsic+json": {
              "type": "dataframe",
              "summary": "{\n  \"name\": \"df[numeric_cols]\",\n  \"rows\": 8,\n  \"fields\": [\n    {\n      \"column\": \"time_spent_on_the_page\",\n      \"properties\": {\n        \"dtype\": \"number\",\n        \"std\": 33.733788000034416,\n        \"min\": 0.19,\n        \"max\": 100.0,\n        \"num_unique_values\": 8,\n        \"samples\": [\n          5.377800000000001,\n          5.415,\n          100.0\n        ],\n        \"semantic_type\": \"\",\n        \"description\": \"\"\n      }\n    }\n  ]\n}"
            }
          },
          "metadata": {},
          "execution_count": 12
        }
      ]
    },
    {
      "cell_type": "markdown",
      "source": [
        "* 5.38 minutes is the mean amount of time a user spent on the webpage, irrespective the landing page.\n",
        "* 10.7 minutes is the maximum amount of time an user spent on the page.\n",
        "\n",
        "We'll see more details of this distribution below."
      ],
      "metadata": {
        "id": "WF0y7kU9Fxs_"
      },
      "id": "WF0y7kU9Fxs_"
    },
    {
      "cell_type": "markdown",
      "source": [
        "The Function Below was taken out of **\"Case_Study - Bike_Sharing\"** Jupyter Notebook in AIML 2021.\n",
        "\n",
        "It is an extreme useful function for univariate analysis of numerical features."
      ],
      "metadata": {
        "id": "V-ZYWFjV1xlE"
      },
      "id": "V-ZYWFjV1xlE"
    },
    {
      "cell_type": "code",
      "source": [
        "def histogram_boxplot(feature, figsize=(6,5), bins = None):\n",
        "    \"\"\" Boxplot and histogram combined\n",
        "    feature: 1-d feature array\n",
        "    figsize: size of fig (default (9,8))\n",
        "    bins: number of bins (default None / auto)\n",
        "    \"\"\"\n",
        "    f2, (ax_box2, ax_hist2) = plt.subplots(nrows = 2, # Number of rows of the subplot grid= 2\n",
        "                                           sharex = True, # x-axis will be shared among all subplots\n",
        "                                           gridspec_kw = {\"height_ratios\": (.25, .75)},\n",
        "                                           figsize = figsize\n",
        "                                           ) # creating the 2 subplots\n",
        "    sns.boxplot(feature, ax=ax_box2, showmeans=True, color='violet', orient='h') # boxplot will be created and a star will indicate the mean value of the column\n",
        "    sns.histplot(feature, kde=F, ax=ax_hist2, bins=bins,palette=\"winter\") if bins else sns.histplot(feature, kde=False, ax=ax_hist2) # For histogram\n",
        "    ax_hist2.axvline(np.mean(feature), color='green', linestyle='--') # Add mean to the histogram\n",
        "    ax_hist2.axvline(np.median(feature), color='black', linestyle='-') # Add median to the histogram"
      ],
      "metadata": {
        "id": "SJ9uaD2G157f"
      },
      "id": "SJ9uaD2G157f",
      "execution_count": 13,
      "outputs": []
    },
    {
      "cell_type": "markdown",
      "source": [
        "Now we look all the numeric features through this function.\n",
        "In our example here, only one pair of box plot/histogram will be displayed."
      ],
      "metadata": {
        "id": "83i1KO_gD8sU"
      },
      "id": "83i1KO_gD8sU"
    },
    {
      "cell_type": "code",
      "source": [
        "for column in numeric_cols:\n",
        "    histogram_boxplot(df[column])\n",
        "    plt.show()\n",
        "    print('-'*100)"
      ],
      "metadata": {
        "colab": {
          "base_uri": "https://localhost:8080/",
          "height": 483
        },
        "id": "4ypc0083D9Fs",
        "outputId": "d54ca7ba-f961-453b-9529-2ae008fa263b"
      },
      "id": "4ypc0083D9Fs",
      "execution_count": 14,
      "outputs": [
        {
          "output_type": "display_data",
          "data": {
            "text/plain": [
              "<Figure size 600x500 with 2 Axes>"
            ],
            "image/png": "[encoded data removed]"
          },
          "metadata": {}
        },
        {
          "output_type": "stream",
          "name": "stdout",
          "text": [
            "----------------------------------------------------------------------------------------------------\n"
          ]
        }
      ]
    },
    {
      "cell_type": "markdown",
      "source": [
        "At first glance, this is approaches a normal distribution. No outliers can be found on the boxplot as such.\n",
        "\n",
        "Let's continue the analysis with the categorical features."
      ],
      "metadata": {
        "id": "G7YkCXpnGLH6"
      },
      "id": "G7YkCXpnGLH6"
    },
    {
      "cell_type": "code",
      "source": [
        "for column in category_cols:\n",
        "    print(df[column].value_counts().sort_values(ascending=False))\n",
        "    print('-'*30)"
      ],
      "metadata": {
        "colab": {
          "base_uri": "https://localhost:8080/"
        },
        "id": "YjmWjYnlHgQE",
        "outputId": "f6cf5d3a-2c15-4972-b186-088f39389188"
      },
      "id": "YjmWjYnlHgQE",
      "execution_count": 15,
      "outputs": [
        {
          "output_type": "stream",
          "name": "stdout",
          "text": [
            "group\n",
            "control      50\n",
            "treatment    50\n",
            "Name: count, dtype: int64\n",
            "------------------------------\n",
            "landing_page\n",
            "old    50\n",
            "new    50\n",
            "Name: count, dtype: int64\n",
            "------------------------------\n",
            "converted\n",
            "yes    54\n",
            "no     46\n",
            "Name: count, dtype: int64\n",
            "------------------------------\n",
            "language_preferred\n",
            "Spanish    34\n",
            "French     34\n",
            "English    32\n",
            "Name: count, dtype: int64\n",
            "------------------------------\n"
          ]
        }
      ]
    },
    {
      "cell_type": "markdown",
      "source": [
        "The distribution here seems very precise too:\n",
        "- 50% of control/treatment under group\n",
        "- 50% of old/new under landing page\n",
        "- 54%/46% for converted\n",
        "- And the three languages (Spanish, French and English) almost equally distributed.\n",
        "\n",
        "We can also easily see this visually below."
      ],
      "metadata": {
        "id": "gkWtAtWHIuHv"
      },
      "id": "gkWtAtWHIuHv"
    },
    {
      "cell_type": "markdown",
      "source": [
        "The following function has also been taken out of **\"Case_Study - Bike_Sharing\"** Jupyter Notebook in AIML 2021.\n",
        "\n",
        "Originally it had the pallete set as \"Paired\", but a warning message says this is a deprecated feature now. This issue is solved by adding hue=z (the input parameter).\n",
        "\n"
      ],
      "metadata": {
        "id": "X7Y4ihjw5ws4"
      },
      "id": "X7Y4ihjw5ws4"
    },
    {
      "cell_type": "code",
      "source": [
        "def perc_on_bar(z):\n",
        "    '''\n",
        "    plot\n",
        "    feature: categorical feature\n",
        "    the function won't work if a column is passed in hue parameter\n",
        "    '''\n",
        "\n",
        "    total = len(df[z]) # length of the column\n",
        "    plt.figure(figsize=(6,4))\n",
        "    ax = sns.countplot(df,x=z,palette=\"winter\",hue=z)\n",
        "    for p in ax.patches:\n",
        "        percentage = '{:.1f}%'.format(100 * p.get_height()/total) # percentage of each class of the category\n",
        "        x = p.get_x() + p.get_width() / 2 - 0.05 # width of the plot\n",
        "        y = p.get_y() + p.get_height()    -20    # hieght of the plot\n",
        "\n",
        "        ax.annotate(percentage, (x, y), size = 10) # annotate the percantage\n",
        "    plt.show() # show the plot"
      ],
      "metadata": {
        "id": "ydkFhT0m1Zzb"
      },
      "id": "ydkFhT0m1Zzb",
      "execution_count": 16,
      "outputs": []
    },
    {
      "cell_type": "code",
      "source": [
        "for column in category_cols:\n",
        "    perc_on_bar(column)\n",
        "    #the below is to create some space between the plots for better visibility\n",
        "    print(\" \"*30)\n",
        "    print(\" \"*30)\n",
        "    print(\"-\"*70)\n",
        "    print(\" \"*30)\n",
        "    print(\" \"*30)"
      ],
      "metadata": {
        "colab": {
          "base_uri": "https://localhost:8080/",
          "height": 1000
        },
        "id": "dxaJm11m1VsX",
        "outputId": "b8bb4d54-e5fc-4f2e-f7c8-e31e0a86f16a"
      },
      "id": "dxaJm11m1VsX",
      "execution_count": 17,
      "outputs": [
        {
          "output_type": "display_data",
          "data": {
            "text/plain": [
              "<Figure size 600x400 with 1 Axes>"
            ],
            "image/png": "[encoded data removed]"
          },
          "metadata": {}
        },
        {
          "output_type": "stream",
          "name": "stdout",
          "text": [
            "                              \n",
            "                              \n",
            "----------------------------------------------------------------------\n",
            "                              \n",
            "                              \n"
          ]
        },
        {
          "output_type": "display_data",
          "data": {
            "text/plain": [
              "<Figure size 600x400 with 1 Axes>"
            ],
            "image/png": "[encoded data removed]"
          },
          "metadata": {}
        },
        {
          "output_type": "stream",
          "name": "stdout",
          "text": [
            "                              \n",
            "                              \n",
            "----------------------------------------------------------------------\n",
            "                              \n",
            "                              \n"
          ]
        },
        {
          "output_type": "display_data",
          "data": {
            "text/plain": [
              "<Figure size 600x400 with 1 Axes>"
            ],
            "image/png": "[encoded data removed]"
          },
          "metadata": {}
        },
        {
          "output_type": "stream",
          "name": "stdout",
          "text": [
            "                              \n",
            "                              \n",
            "----------------------------------------------------------------------\n",
            "                              \n",
            "                              \n"
          ]
        },
        {
          "output_type": "display_data",
          "data": {
            "text/plain": [
              "<Figure size 600x400 with 1 Axes>"
            ],
            "image/png": "[encoded data removed]"
          },
          "metadata": {}
        },
        {
          "output_type": "stream",
          "name": "stdout",
          "text": [
            "                              \n",
            "                              \n",
            "----------------------------------------------------------------------\n",
            "                              \n",
            "                              \n"
          ]
        }
      ]
    },
    {
      "cell_type": "markdown",
      "source": [
        "Data quality is really good here, with no incorrect values, no null values, no issues with percentages of values, etc."
      ],
      "metadata": {
        "id": "WWgTv_0G52ES"
      },
      "id": "WWgTv_0G52ES"
    },
    {
      "cell_type": "markdown",
      "source": [
        "But before we proceed, from the data dictionary and problem statement, there is an indication that records where the landing page is new is the treatment group. And the record where the page is the old version is the control group.\n",
        "\n",
        "Let's just validate if this is the case before we proceed, to guarantee consistency and that we properly understood the data."
      ],
      "metadata": {
        "id": "u2PVASzzDgnO"
      },
      "id": "u2PVASzzDgnO"
    },
    {
      "cell_type": "code",
      "source": [
        "#unique values for landing page, when group is new\n",
        "print(df[df['landing_page']=='new']['group'].unique())"
      ],
      "metadata": {
        "colab": {
          "base_uri": "https://localhost:8080/"
        },
        "id": "dfML5htYCcww",
        "outputId": "d3cf2956-7c41-48fd-a026-02fdd453529a"
      },
      "id": "dfML5htYCcww",
      "execution_count": 18,
      "outputs": [
        {
          "output_type": "stream",
          "name": "stdout",
          "text": [
            "['treatment']\n"
          ]
        }
      ]
    },
    {
      "cell_type": "code",
      "source": [
        "#unique values for landing page, when group is old\n",
        "print(df[df['landing_page']=='old']['group'].unique())"
      ],
      "metadata": {
        "colab": {
          "base_uri": "https://localhost:8080/"
        },
        "id": "TsqWX04KDDkn",
        "outputId": "1bca20a3-4cf7-4d5d-c115-07d58f047851"
      },
      "id": "TsqWX04KDDkn",
      "execution_count": 19,
      "outputs": [
        {
          "output_type": "stream",
          "name": "stdout",
          "text": [
            "['control']\n"
          ]
        }
      ]
    },
    {
      "cell_type": "markdown",
      "source": [
        "The understanding is correct. Both columns, for the intents and pursposes of this analysis, reveal the same information."
      ],
      "metadata": {
        "id": "M0YJDIjDEDr8"
      },
      "id": "M0YJDIjDEDr8"
    },
    {
      "cell_type": "markdown",
      "source": [
        "Let's see how the features related to each other now on the Bivariate Analysis."
      ],
      "metadata": {
        "id": "Nwn1mUHXDeT6"
      },
      "id": "Nwn1mUHXDeT6"
    },
    {
      "cell_type": "markdown",
      "metadata": {
        "id": "fad2de2f"
      },
      "source": [
        "### Bivariate Analysis"
      ],
      "id": "fad2de2f"
    },
    {
      "cell_type": "markdown",
      "source": [
        "Firstly, let have a look at the categorical variables against the conversion rate."
      ],
      "metadata": {
        "id": "Qcyc5kZNoKnU"
      },
      "id": "Qcyc5kZNoKnU"
    },
    {
      "cell_type": "markdown",
      "source": [
        "Stacked Plot Analysis. The function below was taken out of **\"OnlineShoppersPurchasing_Intention-1\"** Jupyter Notebook from AIML 2021 with adjustments on the target variable name.\n",
        "\n",
        "The idea is to have a visual representation on how the target variable - converted - is affected (or not) by the other categorical variables."
      ],
      "metadata": {
        "id": "_c5pijCElSAX"
      },
      "id": "_c5pijCElSAX"
    },
    {
      "cell_type": "code",
      "source": [
        "def stacked_plot(x):\n",
        "    sns.set(palette='Spectral')\n",
        "    tab1 = pd.crosstab(x,df['converted'],margins=True)\n",
        "    print(tab1)\n",
        "    print('-'*120)\n",
        "    tab = pd.crosstab(x,df['converted'],normalize='index')\n",
        "    tab.plot(kind='bar',stacked=True,figsize=(6,4))\n",
        "    plt.legend(loc='lower left', frameon=False)\n",
        "    plt.legend(loc=\"upper left\", bbox_to_anchor=(1,1))\n",
        "    plt.show()"
      ],
      "metadata": {
        "id": "APHh3J8Rm1io"
      },
      "id": "APHh3J8Rm1io",
      "execution_count": 20,
      "outputs": []
    },
    {
      "cell_type": "code",
      "source": [
        "for column in category_cols:\n",
        "    stacked_plot(df[column])\n",
        "    print('-'*100)\n",
        "    print('-'*100)\n",
        "    print('-'*100)"
      ],
      "metadata": {
        "colab": {
          "base_uri": "https://localhost:8080/",
          "height": 1000
        },
        "id": "o2hO6rfmne5W",
        "outputId": "a4fafe61-e96a-40c4-9d44-61cc44e992e2"
      },
      "id": "o2hO6rfmne5W",
      "execution_count": 21,
      "outputs": [
        {
          "output_type": "stream",
          "name": "stdout",
          "text": [
            "converted  no  yes  All\n",
            "group                  \n",
            "control    29   21   50\n",
            "treatment  17   33   50\n",
            "All        46   54  100\n",
            "------------------------------------------------------------------------------------------------------------------------\n"
          ]
        },
        {
          "output_type": "display_data",
          "data": {
            "text/plain": [
              "<Figure size 600x400 with 1 Axes>"
            ],
            "image/png": "[encoded data removed]"
          },
          "metadata": {}
        },
        {
          "output_type": "stream",
          "name": "stdout",
          "text": [
            "----------------------------------------------------------------------------------------------------\n",
            "----------------------------------------------------------------------------------------------------\n",
            "----------------------------------------------------------------------------------------------------\n",
            "converted     no  yes  All\n",
            "landing_page              \n",
            "new           17   33   50\n",
            "old           29   21   50\n",
            "All           46   54  100\n",
            "------------------------------------------------------------------------------------------------------------------------\n"
          ]
        },
        {
          "output_type": "display_data",
          "data": {
            "text/plain": [
              "<Figure size 600x400 with 1 Axes>"
            ],
            "image/png": "[encoded data removed]"
          },
          "metadata": {}
        },
        {
          "output_type": "stream",
          "name": "stdout",
          "text": [
            "----------------------------------------------------------------------------------------------------\n",
            "----------------------------------------------------------------------------------------------------\n",
            "----------------------------------------------------------------------------------------------------\n",
            "converted  no  yes  All\n",
            "converted              \n",
            "no         46    0   46\n",
            "yes         0   54   54\n",
            "All        46   54  100\n",
            "------------------------------------------------------------------------------------------------------------------------\n"
          ]
        },
        {
          "output_type": "display_data",
          "data": {
            "text/plain": [
              "<Figure size 600x400 with 1 Axes>"
            ],
            "image/png": "[encoded data removed]"
          },
          "metadata": {}
        },
        {
          "output_type": "stream",
          "name": "stdout",
          "text": [
            "----------------------------------------------------------------------------------------------------\n",
            "----------------------------------------------------------------------------------------------------\n",
            "----------------------------------------------------------------------------------------------------\n",
            "converted           no  yes  All\n",
            "language_preferred              \n",
            "English             11   21   32\n",
            "French              19   15   34\n",
            "Spanish             16   18   34\n",
            "All                 46   54  100\n",
            "------------------------------------------------------------------------------------------------------------------------\n"
          ]
        },
        {
          "output_type": "display_data",
          "data": {
            "text/plain": [
              "<Figure size 600x400 with 1 Axes>"
            ],
            "image/png": "[encoded data removed]"
          },
          "metadata": {}
        },
        {
          "output_type": "stream",
          "name": "stdout",
          "text": [
            "----------------------------------------------------------------------------------------------------\n",
            "----------------------------------------------------------------------------------------------------\n",
            "----------------------------------------------------------------------------------------------------\n"
          ]
        }
      ]
    },
    {
      "cell_type": "markdown",
      "source": [
        "Some observations from the visual plots (that will be validated, or not, further down, with the appropriate statistical tests).\n",
        "\n",
        "It looks like (again, to be validated further down):\n",
        "\n",
        "\n",
        "*   The treatment group had a higher conversion rate (to what degree, we'll see below)\n",
        "*   The changes on the landing page impacted the conversion rate.\n",
        "*   English speakers seem to have a higher conversion rate. All to be validated.\n",
        "\n"
      ],
      "metadata": {
        "id": "Jw3SdB_TlW2m"
      },
      "id": "Jw3SdB_TlW2m"
    },
    {
      "cell_type": "markdown",
      "source": [
        "Now let's check how the numerical variables behaves against the conversion rate."
      ],
      "metadata": {
        "id": "YPqlmkBVqtwZ"
      },
      "id": "YPqlmkBVqtwZ"
    },
    {
      "cell_type": "code",
      "source": [
        "# Firstly on a boxplot\n",
        "plt.figure(figsize=(6,4))\n",
        "sns.boxplot(x = 'converted', y = 'time_spent_on_the_page', data = df,showmeans=True, color='violet', orient='v')\n",
        "plt.show()"
      ],
      "metadata": {
        "colab": {
          "base_uri": "https://localhost:8080/",
          "height": 396
        },
        "id": "o1jZJN_ArCWR",
        "outputId": "f689a6a5-d888-481b-d858-208126bfebef"
      },
      "id": "o1jZJN_ArCWR",
      "execution_count": 22,
      "outputs": [
        {
          "output_type": "display_data",
          "data": {
            "text/plain": [
              "<Figure size 600x400 with 1 Axes>"
            ],
            "image/png": "[encoded data removed]"
          },
          "metadata": {}
        }
      ]
    },
    {
      "cell_type": "markdown",
      "source": [
        "Then on a histplot"
      ],
      "metadata": {
        "id": "gk5JU6Bprm61"
      },
      "id": "gk5JU6Bprm61"
    },
    {
      "cell_type": "code",
      "source": [
        "sns.histplot(data=df, x='time_spent_on_the_page', hue='converted')"
      ],
      "metadata": {
        "colab": {
          "base_uri": "https://localhost:8080/",
          "height": 476
        },
        "id": "i07ZUI_Ss9--",
        "outputId": "66ccc1dc-76bf-4725-f69d-1fdef559a6aa"
      },
      "id": "i07ZUI_Ss9--",
      "execution_count": 23,
      "outputs": [
        {
          "output_type": "execute_result",
          "data": {
            "text/plain": [
              "<Axes: xlabel='time_spent_on_the_page', ylabel='Count'>"
            ]
          },
          "metadata": {},
          "execution_count": 23
        },
        {
          "output_type": "display_data",
          "data": {
            "text/plain": [
              "<Figure size 640x480 with 1 Axes>"
            ],
            "image/png": "[encoded data removed]"
          },
          "metadata": {}
        }
      ]
    },
    {
      "cell_type": "markdown",
      "source": [
        "It does insinuate the more time an user spends on a page, the more likely it is to subscribe.\n",
        "\n",
        "Let's see if the behaviour is replicated irrespective of which page they spend time on.\n",
        "\n",
        "First on the new pages."
      ],
      "metadata": {
        "id": "SVhl_xEz9jyB"
      },
      "id": "SVhl_xEz9jyB"
    },
    {
      "cell_type": "code",
      "source": [
        "sns.histplot(data=df[df['landing_page']=='new'], x='time_spent_on_the_page', hue='converted')"
      ],
      "metadata": {
        "colab": {
          "base_uri": "https://localhost:8080/",
          "height": 476
        },
        "id": "-BMAmERR9kFT",
        "outputId": "8706dfb7-8342-40bc-a8b4-4fc8fac3c242"
      },
      "id": "-BMAmERR9kFT",
      "execution_count": 24,
      "outputs": [
        {
          "output_type": "execute_result",
          "data": {
            "text/plain": [
              "<Axes: xlabel='time_spent_on_the_page', ylabel='Count'>"
            ]
          },
          "metadata": {},
          "execution_count": 24
        },
        {
          "output_type": "display_data",
          "data": {
            "text/plain": [
              "<Figure size 640x480 with 1 Axes>"
            ],
            "image/png": "[encoded data removed]"
          },
          "metadata": {}
        }
      ]
    },
    {
      "cell_type": "markdown",
      "source": [
        "It does insinuate that users who spent more time on the new page, are more likely to subscribe. And it suggests more of a normal distribution as well. We will validate all these assumptions in due course.\n",
        "\n",
        "Let's see the behaviour only on the old page now:"
      ],
      "metadata": {
        "id": "5qy7SFcW-o-3"
      },
      "id": "5qy7SFcW-o-3"
    },
    {
      "cell_type": "code",
      "source": [
        "sns.histplot(data=df[df['landing_page']=='old'], x='time_spent_on_the_page', hue='converted')"
      ],
      "metadata": {
        "colab": {
          "base_uri": "https://localhost:8080/",
          "height": 476
        },
        "id": "JZiTll6b-pbn",
        "outputId": "c508ed9a-9a3f-46f1-8d36-0cbb7449379e"
      },
      "id": "JZiTll6b-pbn",
      "execution_count": 25,
      "outputs": [
        {
          "output_type": "execute_result",
          "data": {
            "text/plain": [
              "<Axes: xlabel='time_spent_on_the_page', ylabel='Count'>"
            ]
          },
          "metadata": {},
          "execution_count": 25
        },
        {
          "output_type": "display_data",
          "data": {
            "text/plain": [
              "<Figure size 640x480 with 1 Axes>"
            ],
            "image/png": "[encoded data removed]"
          },
          "metadata": {}
        }
      ]
    },
    {
      "cell_type": "markdown",
      "source": [
        "This is an interesting visual finding. While whoever spends more time on the old page seems to be more likely to subscribe, it does appear that users don't spend much time at all in the old page. We'll see if this is indeed the case in statistical terms."
      ],
      "metadata": {
        "id": "HSGyXXkc_fu-"
      },
      "id": "HSGyXXkc_fu-"
    },
    {
      "cell_type": "markdown",
      "source": [
        "### Summary of the findings on Univariate and Bivariate Analysis"
      ],
      "metadata": {
        "id": "wghaaxbzASYa"
      },
      "id": "wghaaxbzASYa"
    },
    {
      "cell_type": "markdown",
      "source": [
        "We started the Exploratory Data Analysis by noting that:\n",
        "\n",
        "-\tDataset has a high data quality, with no missing data in any of the columns available for us.\n",
        "-\tAdditionally, we confirmed the unique values in each column are exactly what we expected to see, with no spelling mistakes, etc. It also showed a proper split of records among group, landing pages, preferred language and converted.\n",
        "-\tIt also showed that almost the entirety of time spent on page is unique.\n",
        "\n",
        "On the univariate analysis:\n",
        "\n",
        "For the numeric variable (time spent on page):\n",
        "-\tIt does appear the distribution is normal, with no outliers, as visualised in both the histogram and the box plot.\n",
        "\n",
        "For the categorical columns:\n",
        "-\tWe validated the proper split within the data set.\n",
        "-\tWe validated that columns ‘landing page’ and ‘group’ are indeed similar, as implied in the problem statement.\n",
        "\n",
        "On the bivariate analysis:\n",
        "\n",
        "For the numerical variable:\n",
        "-\tAgainst the ‘converted’ column, there seems to be the case that the more time you spend on a page, the likely it is for a user to subscribe to the news.\n",
        "-\tWe also split the analysis across old and new pages, finding:\n",
        "o\tAn initial indication that users who spent more time on the new page are more likely to subscribe\n",
        "o\tAn initial indication users don’t spend much time in the old page in the first place, but the ones who do are also more likely to subscribe.\n",
        "\n",
        "For the categorical columns:\n",
        "-\tAn initial indication that people on the treatment group are more likely to subscribe. That also then implies the same for people who are assigned the new page are more likely to subscribe.\n",
        "-\tThere seems to be a more tenue indication that English speaker users are more likely to subscribe than Spanish and French speakers.\n"
      ],
      "metadata": {
        "id": "A2n1oiFqAYvX"
      },
      "id": "A2n1oiFqAYvX"
    },
    {
      "cell_type": "markdown",
      "source": [
        "#Starting to answer the targeted questions"
      ],
      "metadata": {
        "id": "dFyhxTpad_3D"
      },
      "id": "dFyhxTpad_3D"
    },
    {
      "cell_type": "markdown",
      "metadata": {
        "id": "27906576"
      },
      "source": [
        "## 1. Do the users spend more time on the new landing page than the existing landing page?"
      ],
      "id": "27906576"
    },
    {
      "cell_type": "markdown",
      "metadata": {
        "id": "e5fdf0c8"
      },
      "source": [
        "### Perform Visual Analysis"
      ],
      "id": "e5fdf0c8"
    },
    {
      "cell_type": "markdown",
      "source": [
        "The boxplot was suggested in the low code notebook, let's see what it looks like:"
      ],
      "metadata": {
        "id": "ZZDwhUlpfYU3"
      },
      "id": "ZZDwhUlpfYU3"
    },
    {
      "cell_type": "code",
      "metadata": {
        "id": "6eZJa41eg21n",
        "colab": {
          "base_uri": "https://localhost:8080/",
          "height": 397
        },
        "outputId": "8882853d-dff6-41d9-dcfe-9434c5cd6927"
      },
      "source": [
        "# Firstly on a boxplot\n",
        "plt.figure(figsize=(6,4))\n",
        "sns.boxplot(x = 'landing_page', y = 'time_spent_on_the_page', data = df,showmeans=True, color='lightblue', orient='v')\n",
        "plt.show()"
      ],
      "id": "6eZJa41eg21n",
      "execution_count": 26,
      "outputs": [
        {
          "output_type": "display_data",
          "data": {
            "text/plain": [
              "<Figure size 600x400 with 1 Axes>"
            ],
            "image/png": "[encoded data removed]"
          },
          "metadata": {}
        }
      ]
    },
    {
      "cell_type": "markdown",
      "source": [
        "I personally like the histplot with the hue on the variable we want to assess (landing page, in this case)."
      ],
      "metadata": {
        "id": "2E3Yf1iUePr-"
      },
      "id": "2E3Yf1iUePr-"
    },
    {
      "cell_type": "code",
      "source": [
        "sns.histplot(data=df, x='time_spent_on_the_page', hue='landing_page', palette='winter')"
      ],
      "metadata": {
        "colab": {
          "base_uri": "https://localhost:8080/",
          "height": 476
        },
        "id": "abTnbmUveQGU",
        "outputId": "b4f80a41-0fb2-487b-d0f6-d8293a023322"
      },
      "id": "abTnbmUveQGU",
      "execution_count": 27,
      "outputs": [
        {
          "output_type": "execute_result",
          "data": {
            "text/plain": [
              "<Axes: xlabel='time_spent_on_the_page', ylabel='Count'>"
            ]
          },
          "metadata": {},
          "execution_count": 27
        },
        {
          "output_type": "display_data",
          "data": {
            "text/plain": [
              "<Figure size 640x480 with 1 Axes>"
            ],
            "image/png": "[encoded data removed]"
          },
          "metadata": {}
        }
      ]
    },
    {
      "cell_type": "markdown",
      "source": [
        "There seems to be an indication that users spend more time on the new page. We also saw this suggestion when doing the bivariate analysis for conversion rate on the new page. It's time to assess if the visual clues we're getting are statistically relevant or not."
      ],
      "metadata": {
        "id": "0vZtvfvHfnv1"
      },
      "id": "0vZtvfvHfnv1"
    },
    {
      "cell_type": "markdown",
      "metadata": {
        "id": "56b3dafd"
      },
      "source": [
        "### Step 1: Define the null and alternate hypotheses"
      ],
      "id": "56b3dafd"
    },
    {
      "cell_type": "markdown",
      "metadata": {
        "id": "d2ac77ef"
      },
      "source": [
        "Time to frame the null and alternate hypothesis:\n",
        "\n",
        "> $H_0:$ The mean time spent on the website is less than or equal in the old website version than the newer. Current website version is the status quo <br>\n",
        "\n",
        "> $H_a:$ The mean time spent on the newer version of the website is larger than the old..\n",
        "\n",
        "Let $\\mu_1, \\mu_2$ be the time spent mean on old and new website versions.\n",
        "\n",
        "Mathematically, the above formulated hypotheses can be written as\n",
        "\n",
        ">$H_0: \\mu_1 \\le \\mu_2 $ <br>\n",
        "$H_a: \\mu_1 > \\mu_2 $"
      ],
      "id": "d2ac77ef"
    },
    {
      "cell_type": "markdown",
      "source": [
        "Assumptions:\n",
        "\n",
        "* About the population: Unknown population mean and standard deviation\n",
        "* Normality: We can assume normality. Please refer to the very first univariate we have done for time spent; and in question 4 we'll run the actual testing for evidence.\n",
        "* Central Limit Theorem can be assumed based on the number of observations"
      ],
      "metadata": {
        "id": "ZlZ7XU1VEFjb"
      },
      "id": "ZlZ7XU1VEFjb"
    },
    {
      "cell_type": "markdown",
      "source": [
        "Let's just have also a quick look at the mean value and standard deviation"
      ],
      "metadata": {
        "id": "EiRrOwNZEvOU"
      },
      "id": "EiRrOwNZEvOU"
    },
    {
      "cell_type": "code",
      "source": [
        "print('The mean time spent on old version is ' + str(round(df['time_spent_on_the_page'][df['landing_page']=='old'].mean(),2)))\n",
        "print('The mean time spent on new version is ' + str(round(df['time_spent_on_the_page'][df['landing_page']=='new'].mean(),2)))\n",
        "print('The standard deviation of time spent in new version is ' + str(round(df['time_spent_on_the_page'][df['landing_page']=='old'].std(),2)))\n",
        "print('The standard deviation of time spent in old version is ' + str(round(df['time_spent_on_the_page'][df['landing_page']=='new'].std(),2)))"
      ],
      "metadata": {
        "colab": {
          "base_uri": "https://localhost:8080/"
        },
        "id": "ykT1rplyE8R5",
        "outputId": "d6bcc466-03bf-41b9-dba4-f0a7dd553124"
      },
      "id": "ykT1rplyE8R5",
      "execution_count": 28,
      "outputs": [
        {
          "output_type": "stream",
          "name": "stdout",
          "text": [
            "The mean time spent on old version is 4.53\n",
            "The mean time spent on new version is 6.22\n",
            "The standard deviation of time spent in new version is 2.58\n",
            "The standard deviation of time spent in old version is 1.82\n"
          ]
        }
      ]
    },
    {
      "cell_type": "markdown",
      "metadata": {
        "id": "c7ee4907"
      },
      "source": [
        "### Step 2: Select Appropriate test"
      ],
      "id": "c7ee4907"
    },
    {
      "cell_type": "markdown",
      "source": [
        "With the above assumption, values of means and standard deviation for the samples and with the goal of comparing mean time spent between two independent groups (old vs. new webpage), we are going with **Independent T test**"
      ],
      "metadata": {
        "id": "jRGucVQhGnde"
      },
      "id": "jRGucVQhGnde"
    },
    {
      "cell_type": "markdown",
      "metadata": {
        "id": "3f58c9a7"
      },
      "source": [
        "### Step 3: Decide the significance level"
      ],
      "id": "3f58c9a7"
    },
    {
      "cell_type": "markdown",
      "metadata": {
        "id": "92d7d7ee"
      },
      "source": [
        "Significance level of 5% is set at problem statement."
      ],
      "id": "92d7d7ee"
    },
    {
      "cell_type": "code",
      "source": [
        "alpha=0.05"
      ],
      "metadata": {
        "id": "-oCMoleuHqmi"
      },
      "id": "-oCMoleuHqmi",
      "execution_count": 29,
      "outputs": []
    },
    {
      "cell_type": "markdown",
      "metadata": {
        "id": "5fed2eac"
      },
      "source": [
        "### Step 4: Collect and prepare data"
      ],
      "id": "5fed2eac"
    },
    {
      "cell_type": "code",
      "source": [
        "time_old_page =df['time_spent_on_the_page'][df['landing_page']=='old']\n",
        "time_new_page =df['time_spent_on_the_page'][df['landing_page']=='new']"
      ],
      "metadata": {
        "id": "V3QWgB35E-xh"
      },
      "id": "V3QWgB35E-xh",
      "execution_count": 30,
      "outputs": []
    },
    {
      "cell_type": "markdown",
      "metadata": {
        "id": "f5c5258d"
      },
      "source": [
        "### Step 5: Calculate the p-value"
      ],
      "id": "f5c5258d"
    },
    {
      "cell_type": "code",
      "metadata": {
        "id": "fac8594a",
        "colab": {
          "base_uri": "https://localhost:8080/"
        },
        "outputId": "fb9482e9-61a0-40f1-c21a-528f6355ab96"
      },
      "source": [
        "from scipy.stats import ttest_ind\n",
        "\n",
        "# Run the independent samples t-test\n",
        "t_stat, p_value = ttest_ind(time_new_page, time_old_page, equal_var = True, alternative = 'greater')\n",
        "\n",
        "print(\"t-statistic:\", t_stat)\n",
        "print(\"p-value:\", p_value)"
      ],
      "id": "fac8594a",
      "execution_count": 31,
      "outputs": [
        {
          "output_type": "stream",
          "name": "stdout",
          "text": [
            "t-statistic: 3.7867702694199856\n",
            "p-value: 0.0001316123528095005\n"
          ]
        }
      ]
    },
    {
      "cell_type": "markdown",
      "metadata": {
        "id": "359b12f8"
      },
      "source": [
        "### Step 6: Compare the p-value with $\\alpha$"
      ],
      "id": "359b12f8"
    },
    {
      "cell_type": "markdown",
      "source": [
        "Code snippet below adjusted from the Low code notebook provided."
      ],
      "metadata": {
        "id": "vD-u0WiuNkjv"
      },
      "id": "vD-u0WiuNkjv"
    },
    {
      "cell_type": "code",
      "metadata": {
        "id": "7be47289",
        "colab": {
          "base_uri": "https://localhost:8080/"
        },
        "outputId": "92412334-1de5-4ad3-8d89-b94e0e81a48e"
      },
      "source": [
        "# print the conclusion based on p-value\n",
        "if p_value < alpha:\n",
        "    print(f'As the p-value {p_value} is less than the level of significance, we reject the null hypothesis.')\n",
        "else:\n",
        "    print(f'As the p-value {p_value} is greater than the level of significance, we fail to reject the null hypothesis.')"
      ],
      "id": "7be47289",
      "execution_count": 32,
      "outputs": [
        {
          "output_type": "stream",
          "name": "stdout",
          "text": [
            "As the p-value 0.0001316123528095005 is less than the level of significance, we reject the null hypothesis.\n"
          ]
        }
      ]
    },
    {
      "cell_type": "markdown",
      "metadata": {
        "id": "d9affc84"
      },
      "source": [
        "### Step 7:  Draw inference"
      ],
      "id": "d9affc84"
    },
    {
      "cell_type": "markdown",
      "metadata": {
        "id": "6b16dd4b"
      },
      "source": [
        "Rejecting the null hypothesis here means there's statistical evidence users spend more time in the newer version of the landing page. This is supported by the visuals above as well.\n",
        "\n",
        "This may suggest the new landing page is not only more appealing but, because spend more time on the website as whole, there may be a better navigation flow and interesting news may be better placed in the landing page, increasing engagement with the website.\n",
        "\n",
        "Whether or not this has an impact on the conversion to subscriber rate, we'll see next."
      ],
      "id": "6b16dd4b"
    },
    {
      "cell_type": "markdown",
      "metadata": {
        "id": "1ad0823a"
      },
      "source": [
        "**A similar approach will be followed to answer the other questions, starting with the visuals, then the same 7 steps**\n",
        "\n"
      ],
      "id": "1ad0823a"
    },
    {
      "cell_type": "markdown",
      "metadata": {
        "id": "353e9d24"
      },
      "source": [
        "## 2. Is the conversion rate (the proportion of users who visit the landing page and get converted) for the new page greater than the conversion rate for the old page?"
      ],
      "id": "353e9d24"
    },
    {
      "cell_type": "markdown",
      "source": [
        "### Perform Visual Analysis\n",
        "\n",
        "Let's start repeating the visual above for the two categorical variables, landing page and converted users, reusing the *stacked_plot* function created earlier in this notebook:"
      ],
      "metadata": {
        "id": "nNBzFxDvOiF2"
      },
      "id": "nNBzFxDvOiF2"
    },
    {
      "cell_type": "code",
      "source": [
        "stacked_plot(df['landing_page'])\n",
        "print('-'*100)\n",
        "print('-'*100)\n",
        "print('-'*100)"
      ],
      "metadata": {
        "colab": {
          "base_uri": "https://localhost:8080/",
          "height": 577
        },
        "outputId": "127646cc-8074-44fd-d788-4d75f53d845e",
        "id": "J5l5n1ITOivA"
      },
      "execution_count": 33,
      "outputs": [
        {
          "output_type": "stream",
          "name": "stdout",
          "text": [
            "converted     no  yes  All\n",
            "landing_page              \n",
            "new           17   33   50\n",
            "old           29   21   50\n",
            "All           46   54  100\n",
            "------------------------------------------------------------------------------------------------------------------------\n"
          ]
        },
        {
          "output_type": "display_data",
          "data": {
            "text/plain": [
              "<Figure size 600x400 with 1 Axes>"
            ],
            "image/png": "[encoded data removed]"
          },
          "metadata": {}
        },
        {
          "output_type": "stream",
          "name": "stdout",
          "text": [
            "----------------------------------------------------------------------------------------------------\n",
            "----------------------------------------------------------------------------------------------------\n",
            "----------------------------------------------------------------------------------------------------\n"
          ]
        }
      ],
      "id": "J5l5n1ITOivA"
    },
    {
      "cell_type": "markdown",
      "source": [
        "As we mentioned earlier in this notebook, this visual suggests that users who test the new webpage version are more likely to subscribe. We'll validate that."
      ],
      "metadata": {
        "id": "l0fQ4YEVPGT1"
      },
      "id": "l0fQ4YEVPGT1"
    },
    {
      "cell_type": "markdown",
      "source": [
        "### Step 1: Define the null and alternate hyphotesis"
      ],
      "metadata": {
        "id": "kAb7-E71VPSA"
      },
      "id": "kAb7-E71VPSA"
    },
    {
      "cell_type": "markdown",
      "source": [
        "We want to check the impact of one categorical variable on another categorical variable:\n",
        "\n",
        "$H_0:$ Web page design and subscription are independent of each other\n",
        "\n",
        "$H_a:$ Web page design and subscription are independent of each other"
      ],
      "metadata": {
        "id": "qSPP8wGEU0QC"
      },
      "id": "qSPP8wGEU0QC"
    },
    {
      "cell_type": "markdown",
      "source": [
        "### Step 2: Select the appropriate test"
      ],
      "metadata": {
        "id": "WqLnAnYzVSE8"
      },
      "id": "WqLnAnYzVSE8"
    },
    {
      "cell_type": "markdown",
      "source": [
        " We want to test if there is a statistically significant association between the page version shown and whether the user converted.\n",
        "\n",
        " This seems to be an application of the **Chi-square test** for a 2×2 contingency table."
      ],
      "metadata": {
        "id": "vObmcBTDVXNz"
      },
      "id": "vObmcBTDVXNz"
    },
    {
      "cell_type": "markdown",
      "source": [
        "### Step 3: Decide the significance level"
      ],
      "metadata": {
        "id": "nJm51AFHVsoX"
      },
      "id": "nJm51AFHVsoX"
    },
    {
      "cell_type": "markdown",
      "source": [
        "Similarly to question number 1, the significance level is given at problem statement and set at 5%."
      ],
      "metadata": {
        "id": "NuO8OREYVxJK"
      },
      "id": "NuO8OREYVxJK"
    },
    {
      "cell_type": "code",
      "source": [
        "alpha=0.05"
      ],
      "metadata": {
        "id": "Xy7yTvsUV4o_"
      },
      "id": "Xy7yTvsUV4o_",
      "execution_count": 34,
      "outputs": []
    },
    {
      "cell_type": "markdown",
      "source": [],
      "metadata": {
        "id": "GW-_hE0ICqeN"
      },
      "id": "GW-_hE0ICqeN"
    },
    {
      "cell_type": "markdown",
      "source": [
        "###Step 4: Collect and prepare the data"
      ],
      "metadata": {
        "id": "jT_ARBUZWOol"
      },
      "id": "jT_ARBUZWOol"
    },
    {
      "cell_type": "markdown",
      "source": [
        "Creating a contingency table:"
      ],
      "metadata": {
        "id": "Bo32A8z6NNoN"
      },
      "id": "Bo32A8z6NNoN"
    },
    {
      "cell_type": "code",
      "source": [
        "contingency_table = pd.crosstab(df['landing_page'], df['converted'])\n",
        "contingency_table"
      ],
      "metadata": {
        "colab": {
          "base_uri": "https://localhost:8080/",
          "height": 143
        },
        "id": "JMrwRE8SWPFS",
        "outputId": "2a4087af-47a7-46bc-aba1-90e1cd756eac"
      },
      "id": "JMrwRE8SWPFS",
      "execution_count": 35,
      "outputs": [
        {
          "output_type": "execute_result",
          "data": {
            "text/plain": [
              "converted     no  yes\n",
              "landing_page         \n",
              "new           17   33\n",
              "old           29   21"
            ],
            "text/html": [
              "\n",
              "  <div id=\"df-94e1545b-20ff-471c-aaea-d05bfa6c59ac\" class=\"colab-df-container\">\n",
              "    <div>\n",
              "<style scoped>\n",
              "    .dataframe tbody tr th:only-of-type {\n",
              "        vertical-align: middle;\n",
              "    }\n",
              "\n",
              "    .dataframe tbody tr th {\n",
              "        vertical-align: top;\n",
              "    }\n",
              "\n",
              "    .dataframe thead th {\n",
              "        text-align: right;\n",
              "    }\n",
              "</style>\n",
              "<table border=\"1\" class=\"dataframe\">\n",
              "  <thead>\n",
              "    <tr style=\"text-align: right;\">\n",
              "      <th>converted</th>\n",
              "      <th>no</th>\n",
              "      <th>yes</th>\n",
              "    </tr>\n",
              "    <tr>\n",
              "      <th>landing_page</th>\n",
              "      <th></th>\n",
              "      <th></th>\n",
              "    </tr>\n",
              "  </thead>\n",
              "  <tbody>\n",
              "    <tr>\n",
              "      <th>new</th>\n",
              "      <td>17</td>\n",
              "      <td>33</td>\n",
              "    </tr>\n",
              "    <tr>\n",
              "      <th>old</th>\n",
              "      <td>29</td>\n",
              "      <td>21</td>\n",
              "    </tr>\n",
              "  </tbody>\n",
              "</table>\n",
              "</div>\n",
              "    <div class=\"colab-df-buttons\">\n",
              "\n",
              "  <div class=\"colab-df-container\">\n",
              "    <button class=\"colab-df-convert\" onclick=\"convertToInteractive('df-94e1545b-20ff-471c-aaea-d05bfa6c59ac')\"\n",
              "            title=\"Convert this dataframe to an interactive table.\"\n",
              "            style=\"display:none;\">\n",
              "\n",
              "  <svg xmlns=\"http://www.w3.org/2000/svg\" height=\"24px\" viewBox=\"0 -960 960 960\">\n",
              "    <path d=\"M120-120v-720h720v720H120Zm60-500h600v-160H180v160Zm220 220h160v-160H400v160Zm0 220h160v-160H400v160ZM180-400h160v-160H180v160Zm440 0h160v-160H620v160ZM180-180h160v-160H180v160Zm440 0h160v-160H620v160Z\"/>\n",
              "  </svg>\n",
              "    </button>\n",
              "\n",
              "  <style>\n",
              "    .colab-df-container {\n",
              "      display:flex;\n",
              "      gap: 12px;\n",
              "    }\n",
              "\n",
              "    .colab-df-convert {\n",
              "      background-color: #E8F0FE;\n",
              "      border: none;\n",
              "      border-radius: 50%;\n",
              "      cursor: pointer;\n",
              "      display: none;\n",
              "      fill: #1967D2;\n",
              "      height: 32px;\n",
              "      padding: 0 0 0 0;\n",
              "      width: 32px;\n",
              "    }\n",
              "\n",
              "    .colab-df-convert:hover {\n",
              "      background-color: #E2EBFA;\n",
              "      box-shadow: 0px 1px 2px rgba(60, 64, 67, 0.3), 0px 1px 3px 1px rgba(60, 64, 67, 0.15);\n",
              "      fill: #174EA6;\n",
              "    }\n",
              "\n",
              "    .colab-df-buttons div {\n",
              "      margin-bottom: 4px;\n",
              "    }\n",
              "\n",
              "    [theme=dark] .colab-df-convert {\n",
              "      background-color: #3B4455;\n",
              "      fill: #D2E3FC;\n",
              "    }\n",
              "\n",
              "    [theme=dark] .colab-df-convert:hover {\n",
              "      background-color: #434B5C;\n",
              "      box-shadow: 0px 1px 3px 1px rgba(0, 0, 0, 0.15);\n",
              "      filter: drop-shadow(0px 1px 2px rgba(0, 0, 0, 0.3));\n",
              "      fill: #FFFFFF;\n",
              "    }\n",
              "  </style>\n",
              "\n",
              "    <script>\n",
              "      const buttonEl =\n",
              "        document.querySelector('#df-94e1545b-20ff-471c-aaea-d05bfa6c59ac button.colab-df-convert');\n",
              "      buttonEl.style.display =\n",
              "        google.colab.kernel.accessAllowed ? 'block' : 'none';\n",
              "\n",
              "      async function convertToInteractive(key) {\n",
              "        const element = document.querySelector('#df-94e1545b-20ff-471c-aaea-d05bfa6c59ac');\n",
              "        const dataTable =\n",
              "          await google.colab.kernel.invokeFunction('convertToInteractive',\n",
              "                                                    [key], {});\n",
              "        if (!dataTable) return;\n",
              "\n",
              "        const docLinkHtml = 'Like what you see? Visit the ' +\n",
              "          '<a target=\"_blank\" href=https://colab.research.google.com/notebooks/data_table.ipynb>data table notebook</a>'\n",
              "          + ' to learn more about interactive tables.';\n",
              "        element.innerHTML = '';\n",
              "        dataTable['output_type'] = 'display_data';\n",
              "        await google.colab.output.renderOutput(dataTable, element);\n",
              "        const docLink = document.createElement('div');\n",
              "        docLink.innerHTML = docLinkHtml;\n",
              "        element.appendChild(docLink);\n",
              "      }\n",
              "    </script>\n",
              "  </div>\n",
              "\n",
              "\n",
              "    <div id=\"df-f0b1eb61-ee14-405d-ac8c-4a1732213b27\">\n",
              "      <button class=\"colab-df-quickchart\" onclick=\"quickchart('df-f0b1eb61-ee14-405d-ac8c-4a1732213b27')\"\n",
              "                title=\"Suggest charts\"\n",
              "                style=\"display:none;\">\n",
              "\n",
              "<svg xmlns=\"http://www.w3.org/2000/svg\" height=\"24px\"viewBox=\"0 0 24 24\"\n",
              "     width=\"24px\">\n",
              "    <g>\n",
              "        <path d=\"M19 3H5c-1.1 0-2 .9-2 2v14c0 1.1.9 2 2 2h14c1.1 0 2-.9 2-2V5c0-1.1-.9-2-2-2zM9 17H7v-7h2v7zm4 0h-2V7h2v10zm4 0h-2v-4h2v4z\"/>\n",
              "    </g>\n",
              "</svg>\n",
              "      </button>\n",
              "\n",
              "<style>\n",
              "  .colab-df-quickchart {\n",
              "      --bg-color: #E8F0FE;\n",
              "      --fill-color: #1967D2;\n",
              "      --hover-bg-color: #E2EBFA;\n",
              "      --hover-fill-color: #174EA6;\n",
              "      --disabled-fill-color: #AAA;\n",
              "      --disabled-bg-color: #DDD;\n",
              "  }\n",
              "\n",
              "  [theme=dark] .colab-df-quickchart {\n",
              "      --bg-color: #3B4455;\n",
              "      --fill-color: #D2E3FC;\n",
              "      --hover-bg-color: #434B5C;\n",
              "      --hover-fill-color: #FFFFFF;\n",
              "      --disabled-bg-color: #3B4455;\n",
              "      --disabled-fill-color: #666;\n",
              "  }\n",
              "\n",
              "  .colab-df-quickchart {\n",
              "    background-color: var(--bg-color);\n",
              "    border: none;\n",
              "    border-radius: 50%;\n",
              "    cursor: pointer;\n",
              "    display: none;\n",
              "    fill: var(--fill-color);\n",
              "    height: 32px;\n",
              "    padding: 0;\n",
              "    width: 32px;\n",
              "  }\n",
              "\n",
              "  .colab-df-quickchart:hover {\n",
              "    background-color: var(--hover-bg-color);\n",
              "    box-shadow: 0 1px 2px rgba(60, 64, 67, 0.3), 0 1px 3px 1px rgba(60, 64, 67, 0.15);\n",
              "    fill: var(--button-hover-fill-color);\n",
              "  }\n",
              "\n",
              "  .colab-df-quickchart-complete:disabled,\n",
              "  .colab-df-quickchart-complete:disabled:hover {\n",
              "    background-color: var(--disabled-bg-color);\n",
              "    fill: var(--disabled-fill-color);\n",
              "    box-shadow: none;\n",
              "  }\n",
              "\n",
              "  .colab-df-spinner {\n",
              "    border: 2px solid var(--fill-color);\n",
              "    border-color: transparent;\n",
              "    border-bottom-color: var(--fill-color);\n",
              "    animation:\n",
              "      spin 1s steps(1) infinite;\n",
              "  }\n",
              "\n",
              "  @keyframes spin {\n",
              "    0% {\n",
              "      border-color: transparent;\n",
              "      border-bottom-color: var(--fill-color);\n",
              "      border-left-color: var(--fill-color);\n",
              "    }\n",
              "    20% {\n",
              "      border-color: transparent;\n",
              "      border-left-color: var(--fill-color);\n",
              "      border-top-color: var(--fill-color);\n",
              "    }\n",
              "    30% {\n",
              "      border-color: transparent;\n",
              "      border-left-color: var(--fill-color);\n",
              "      border-top-color: var(--fill-color);\n",
              "      border-right-color: var(--fill-color);\n",
              "    }\n",
              "    40% {\n",
              "      border-color: transparent;\n",
              "      border-right-color: var(--fill-color);\n",
              "      border-top-color: var(--fill-color);\n",
              "    }\n",
              "    60% {\n",
              "      border-color: transparent;\n",
              "      border-right-color: var(--fill-color);\n",
              "    }\n",
              "    80% {\n",
              "      border-color: transparent;\n",
              "      border-right-color: var(--fill-color);\n",
              "      border-bottom-color: var(--fill-color);\n",
              "    }\n",
              "    90% {\n",
              "      border-color: transparent;\n",
              "      border-bottom-color: var(--fill-color);\n",
              "    }\n",
              "  }\n",
              "</style>\n",
              "\n",
              "      <script>\n",
              "        async function quickchart(key) {\n",
              "          const quickchartButtonEl =\n",
              "            document.querySelector('#' + key + ' button');\n",
              "          quickchartButtonEl.disabled = true;  // To prevent multiple clicks.\n",
              "          quickchartButtonEl.classList.add('colab-df-spinner');\n",
              "          try {\n",
              "            const charts = await google.colab.kernel.invokeFunction(\n",
              "                'suggestCharts', [key], {});\n",
              "          } catch (error) {\n",
              "            console.error('Error during call to suggestCharts:', error);\n",
              "          }\n",
              "          quickchartButtonEl.classList.remove('colab-df-spinner');\n",
              "          quickchartButtonEl.classList.add('colab-df-quickchart-complete');\n",
              "        }\n",
              "        (() => {\n",
              "          let quickchartButtonEl =\n",
              "            document.querySelector('#df-f0b1eb61-ee14-405d-ac8c-4a1732213b27 button');\n",
              "          quickchartButtonEl.style.display =\n",
              "            google.colab.kernel.accessAllowed ? 'block' : 'none';\n",
              "        })();\n",
              "      </script>\n",
              "    </div>\n",
              "\n",
              "  <div id=\"id_2664a57b-6610-46c0-ae47-8dd474d0189e\">\n",
              "    <style>\n",
              "      .colab-df-generate {\n",
              "        background-color: #E8F0FE;\n",
              "        border: none;\n",
              "        border-radius: 50%;\n",
              "        cursor: pointer;\n",
              "        display: none;\n",
              "        fill: #1967D2;\n",
              "        height: 32px;\n",
              "        padding: 0 0 0 0;\n",
              "        width: 32px;\n",
              "      }\n",
              "\n",
              "      .colab-df-generate:hover {\n",
              "        background-color: #E2EBFA;\n",
              "        box-shadow: 0px 1px 2px rgba(60, 64, 67, 0.3), 0px 1px 3px 1px rgba(60, 64, 67, 0.15);\n",
              "        fill: #174EA6;\n",
              "      }\n",
              "\n",
              "      [theme=dark] .colab-df-generate {\n",
              "        background-color: #3B4455;\n",
              "        fill: #D2E3FC;\n",
              "      }\n",
              "\n",
              "      [theme=dark] .colab-df-generate:hover {\n",
              "        background-color: #434B5C;\n",
              "        box-shadow: 0px 1px 3px 1px rgba(0, 0, 0, 0.15);\n",
              "        filter: drop-shadow(0px 1px 2px rgba(0, 0, 0, 0.3));\n",
              "        fill: #FFFFFF;\n",
              "      }\n",
              "    </style>\n",
              "    <button class=\"colab-df-generate\" onclick=\"generateWithVariable('contingency_table')\"\n",
              "            title=\"Generate code using this dataframe.\"\n",
              "            style=\"display:none;\">\n",
              "\n",
              "  <svg xmlns=\"http://www.w3.org/2000/svg\" height=\"24px\"viewBox=\"0 0 24 24\"\n",
              "       width=\"24px\">\n",
              "    <path d=\"M7,19H8.4L18.45,9,17,7.55,7,17.6ZM5,21V16.75L18.45,3.32a2,2,0,0,1,2.83,0l1.4,1.43a1.91,1.91,0,0,1,.58,1.4,1.91,1.91,0,0,1-.58,1.4L9.25,21ZM18.45,9,17,7.55Zm-12,3A5.31,5.31,0,0,0,4.9,8.1,5.31,5.31,0,0,0,1,6.5,5.31,5.31,0,0,0,4.9,4.9,5.31,5.31,0,0,0,6.5,1,5.31,5.31,0,0,0,8.1,4.9,5.31,5.31,0,0,0,12,6.5,5.46,5.46,0,0,0,6.5,12Z\"/>\n",
              "  </svg>\n",
              "    </button>\n",
              "    <script>\n",
              "      (() => {\n",
              "      const buttonEl =\n",
              "        document.querySelector('#id_2664a57b-6610-46c0-ae47-8dd474d0189e button.colab-df-generate');\n",
              "      buttonEl.style.display =\n",
              "        google.colab.kernel.accessAllowed ? 'block' : 'none';\n",
              "\n",
              "      buttonEl.onclick = () => {\n",
              "        google.colab.notebook.generateWithVariable('contingency_table');\n",
              "      }\n",
              "      })();\n",
              "    </script>\n",
              "  </div>\n",
              "\n",
              "    </div>\n",
              "  </div>\n"
            ],
            "application/vnd.google.colaboratory.intrinsic+json": {
              "type": "dataframe",
              "variable_name": "contingency_table",
              "summary": "{\n  \"name\": \"contingency_table\",\n  \"rows\": 2,\n  \"fields\": [\n    {\n      \"column\": \"landing_page\",\n      \"properties\": {\n        \"dtype\": \"string\",\n        \"num_unique_values\": 2,\n        \"samples\": [\n          \"old\",\n          \"new\"\n        ],\n        \"semantic_type\": \"\",\n        \"description\": \"\"\n      }\n    },\n    {\n      \"column\": \"no\",\n      \"properties\": {\n        \"dtype\": \"number\",\n        \"std\": 8,\n        \"min\": 17,\n        \"max\": 29,\n        \"num_unique_values\": 2,\n        \"samples\": [\n          29,\n          17\n        ],\n        \"semantic_type\": \"\",\n        \"description\": \"\"\n      }\n    },\n    {\n      \"column\": \"yes\",\n      \"properties\": {\n        \"dtype\": \"number\",\n        \"std\": 8,\n        \"min\": 21,\n        \"max\": 33,\n        \"num_unique_values\": 2,\n        \"samples\": [\n          21,\n          33\n        ],\n        \"semantic_type\": \"\",\n        \"description\": \"\"\n      }\n    }\n  ]\n}"
            }
          },
          "metadata": {},
          "execution_count": 35
        }
      ]
    },
    {
      "cell_type": "markdown",
      "source": [
        "###Step 5: Calculate the p-value"
      ],
      "metadata": {
        "id": "2xae9HSIC4Mc"
      },
      "id": "2xae9HSIC4Mc"
    },
    {
      "cell_type": "markdown",
      "source": [
        "Using the chi2_contingency function"
      ],
      "metadata": {
        "id": "Cc9ToukTNWkF"
      },
      "id": "Cc9ToukTNWkF"
    },
    {
      "cell_type": "code",
      "source": [
        "# import the required test function\n",
        "from scipy.stats import chi2_contingency\n",
        "\n",
        "# calculate the test results\n",
        "chi, p_value, dof, expected = chi2_contingency(contingency_table)\n",
        "\n",
        "print(\"Test Statistic =\",chi)\n",
        "print(\"p-value =\",p_value)\n",
        "print(\"Degrees of freedom =\",dof)\n",
        "print(\"Expected frequencies \\n\", expected)"
      ],
      "metadata": {
        "colab": {
          "base_uri": "https://localhost:8080/"
        },
        "id": "ySdTmCNDXLR7",
        "outputId": "5d2bb537-7a7a-47f7-cfff-1fccdca90b67"
      },
      "id": "ySdTmCNDXLR7",
      "execution_count": 36,
      "outputs": [
        {
          "output_type": "stream",
          "name": "stdout",
          "text": [
            "Test Statistic = 4.871175523349437\n",
            "p-value = 0.02730889175492232\n",
            "Degrees of freedom = 1\n",
            "Expected frequencies \n",
            " [[23. 27.]\n",
            " [23. 27.]]\n"
          ]
        }
      ]
    },
    {
      "cell_type": "markdown",
      "source": [
        "###Step 6: Compare the p-value with alpha"
      ],
      "metadata": {
        "id": "avYo9bFRDEK1"
      },
      "id": "avYo9bFRDEK1"
    },
    {
      "cell_type": "code",
      "metadata": {
        "colab": {
          "base_uri": "https://localhost:8080/"
        },
        "outputId": "a1610283-8bcd-4fd9-8b88-6917d0ea12b1",
        "id": "1pKPtuiyCkII"
      },
      "source": [
        "# print the conclusion based on p-value\n",
        "if p_value < alpha:\n",
        "    print(f'As the p-value {p_value} is less than the level of significance, we reject the null hypothesis.')\n",
        "else:\n",
        "    print(f'As the p-value {p_value} is greater than the level of significance, we fail to reject the null hypothesis.')"
      ],
      "execution_count": 37,
      "outputs": [
        {
          "output_type": "stream",
          "name": "stdout",
          "text": [
            "As the p-value 0.02730889175492232 is less than the level of significance, we reject the null hypothesis.\n"
          ]
        }
      ],
      "id": "1pKPtuiyCkII"
    },
    {
      "cell_type": "markdown",
      "source": [
        "###Step 7: Draw inference"
      ],
      "metadata": {
        "id": "uSaPJUl4DLWo"
      },
      "id": "uSaPJUl4DLWo"
    },
    {
      "cell_type": "markdown",
      "source": [
        "Rejecting the null hypothesis means there is a dependency between which landing page the users are given to surf and the number of users becoming subscribers.\n",
        "\n",
        "This is, again, in line with the visuals, where the \"orange\" stacks in the stack plots are indeed different."
      ],
      "metadata": {
        "id": "3yqYWQKQNdGC"
      },
      "id": "3yqYWQKQNdGC"
    },
    {
      "cell_type": "markdown",
      "metadata": {
        "id": "d49bfa2d"
      },
      "source": [
        "## 3. Is the conversion and preferred language are independent or related?"
      ],
      "id": "d49bfa2d"
    },
    {
      "cell_type": "markdown",
      "source": [
        "### Perform Visual Analysis\n",
        "\n",
        "Let's start repeating the visual above for the two categorical variables, this time: language preferred and converted users:"
      ],
      "metadata": {
        "id": "GJvpk6nkEvsc"
      },
      "id": "GJvpk6nkEvsc"
    },
    {
      "cell_type": "code",
      "source": [
        "stacked_plot(df['language_preferred'])\n",
        "print('-'*100)\n",
        "print('-'*100)\n",
        "print('-'*100)"
      ],
      "metadata": {
        "colab": {
          "base_uri": "https://localhost:8080/",
          "height": 625
        },
        "outputId": "c434c2fc-a8ba-4cbb-ac72-91abb846d7df",
        "id": "kQCPao_AEvsd"
      },
      "execution_count": 38,
      "outputs": [
        {
          "output_type": "stream",
          "name": "stdout",
          "text": [
            "converted           no  yes  All\n",
            "language_preferred              \n",
            "English             11   21   32\n",
            "French              19   15   34\n",
            "Spanish             16   18   34\n",
            "All                 46   54  100\n",
            "------------------------------------------------------------------------------------------------------------------------\n"
          ]
        },
        {
          "output_type": "display_data",
          "data": {
            "text/plain": [
              "<Figure size 600x400 with 1 Axes>"
            ],
            "image/png": "[encoded data removed]"
          },
          "metadata": {}
        },
        {
          "output_type": "stream",
          "name": "stdout",
          "text": [
            "----------------------------------------------------------------------------------------------------\n",
            "----------------------------------------------------------------------------------------------------\n",
            "----------------------------------------------------------------------------------------------------\n"
          ]
        }
      ],
      "id": "kQCPao_AEvsd"
    },
    {
      "cell_type": "markdown",
      "source": [
        "As we mentioned earlier in this notebook, this visual suggests a slightly difference in conversion rates for the English language, but we will verify if this is statistically relevant or not."
      ],
      "metadata": {
        "id": "AYRXLBJwEvse"
      },
      "id": "AYRXLBJwEvse"
    },
    {
      "cell_type": "markdown",
      "source": [
        "### Step 1: Define the null and alternate hyphotesis"
      ],
      "metadata": {
        "id": "nDO8a36vEvsf"
      },
      "id": "nDO8a36vEvsf"
    },
    {
      "cell_type": "markdown",
      "source": [
        "We will test the null hypothesis that conversion rate is independed on preferred language:\n",
        "\n",
        ">$H_0: $ The conversion rate is independent on the preferred language.\n",
        "\n",
        "against the alternative hypothesis\n",
        "\n",
        ">$H_a: $ The conversion rate is dependent on the preferred language."
      ],
      "metadata": {
        "id": "FytAYRzHEvsf"
      },
      "id": "FytAYRzHEvsf"
    },
    {
      "cell_type": "markdown",
      "source": [
        "### Step 2: Select the appropriate test"
      ],
      "metadata": {
        "id": "L4e9UkvLEvsf"
      },
      "id": "L4e9UkvLEvsf"
    },
    {
      "cell_type": "markdown",
      "source": [
        " We want to test if there is a statistically significant association between the preferred language and whether the user converted.\n",
        "\n",
        " These are still 2 categorical variables, hence suggesting once again an application of the **Chi-square test**, but this time for a **3×2 contingency table.**"
      ],
      "metadata": {
        "id": "ueok7nZGEvsg"
      },
      "id": "ueok7nZGEvsg"
    },
    {
      "cell_type": "markdown",
      "source": [
        "### Step 3: Decide the significance level"
      ],
      "metadata": {
        "id": "RQO6fTgAEvsg"
      },
      "id": "RQO6fTgAEvsg"
    },
    {
      "cell_type": "markdown",
      "source": [
        "Similarly to question number 1 and 2, the significance level is given at problem statement and set at 5%."
      ],
      "metadata": {
        "id": "N2ZIZoTTEvsh"
      },
      "id": "N2ZIZoTTEvsh"
    },
    {
      "cell_type": "code",
      "source": [
        "alpha=0.05"
      ],
      "metadata": {
        "id": "IlwGbC_oEvsh"
      },
      "execution_count": 39,
      "outputs": [],
      "id": "IlwGbC_oEvsh"
    },
    {
      "cell_type": "markdown",
      "source": [
        "###Step 4: Collect and prepare the data"
      ],
      "metadata": {
        "id": "-eovBjHeEvsi"
      },
      "id": "-eovBjHeEvsi"
    },
    {
      "cell_type": "markdown",
      "source": [
        "Creating the 3x2 contingency table with crosstab function once more:"
      ],
      "metadata": {
        "id": "rrzdLuHQRMNk"
      },
      "id": "rrzdLuHQRMNk"
    },
    {
      "cell_type": "code",
      "source": [
        "language_contingency_table = pd.crosstab(df['language_preferred'], df['converted'])\n",
        "language_contingency_table"
      ],
      "metadata": {
        "colab": {
          "base_uri": "https://localhost:8080/",
          "height": 175
        },
        "outputId": "79452178-7bfe-4de7-9c63-a3d955a38dc1",
        "id": "Wk96Po4mEvsi"
      },
      "execution_count": 40,
      "outputs": [
        {
          "output_type": "execute_result",
          "data": {
            "text/plain": [
              "converted           no  yes\n",
              "language_preferred         \n",
              "English             11   21\n",
              "French              19   15\n",
              "Spanish             16   18"
            ],
            "text/html": [
              "\n",
              "  <div id=\"df-4ba1c605-b9da-4b9a-a1fa-3b2899341b37\" class=\"colab-df-container\">\n",
              "    <div>\n",
              "<style scoped>\n",
              "    .dataframe tbody tr th:only-of-type {\n",
              "        vertical-align: middle;\n",
              "    }\n",
              "\n",
              "    .dataframe tbody tr th {\n",
              "        vertical-align: top;\n",
              "    }\n",
              "\n",
              "    .dataframe thead th {\n",
              "        text-align: right;\n",
              "    }\n",
              "</style>\n",
              "<table border=\"1\" class=\"dataframe\">\n",
              "  <thead>\n",
              "    <tr style=\"text-align: right;\">\n",
              "      <th>converted</th>\n",
              "      <th>no</th>\n",
              "      <th>yes</th>\n",
              "    </tr>\n",
              "    <tr>\n",
              "      <th>language_preferred</th>\n",
              "      <th></th>\n",
              "      <th></th>\n",
              "    </tr>\n",
              "  </thead>\n",
              "  <tbody>\n",
              "    <tr>\n",
              "      <th>English</th>\n",
              "      <td>11</td>\n",
              "      <td>21</td>\n",
              "    </tr>\n",
              "    <tr>\n",
              "      <th>French</th>\n",
              "      <td>19</td>\n",
              "      <td>15</td>\n",
              "    </tr>\n",
              "    <tr>\n",
              "      <th>Spanish</th>\n",
              "      <td>16</td>\n",
              "      <td>18</td>\n",
              "    </tr>\n",
              "  </tbody>\n",
              "</table>\n",
              "</div>\n",
              "    <div class=\"colab-df-buttons\">\n",
              "\n",
              "  <div class=\"colab-df-container\">\n",
              "    <button class=\"colab-df-convert\" onclick=\"convertToInteractive('df-4ba1c605-b9da-4b9a-a1fa-3b2899341b37')\"\n",
              "            title=\"Convert this dataframe to an interactive table.\"\n",
              "            style=\"display:none;\">\n",
              "\n",
              "  <svg xmlns=\"http://www.w3.org/2000/svg\" height=\"24px\" viewBox=\"0 -960 960 960\">\n",
              "    <path d=\"M120-120v-720h720v720H120Zm60-500h600v-160H180v160Zm220 220h160v-160H400v160Zm0 220h160v-160H400v160ZM180-400h160v-160H180v160Zm440 0h160v-160H620v160ZM180-180h160v-160H180v160Zm440 0h160v-160H620v160Z\"/>\n",
              "  </svg>\n",
              "    </button>\n",
              "\n",
              "  <style>\n",
              "    .colab-df-container {\n",
              "      display:flex;\n",
              "      gap: 12px;\n",
              "    }\n",
              "\n",
              "    .colab-df-convert {\n",
              "      background-color: #E8F0FE;\n",
              "      border: none;\n",
              "      border-radius: 50%;\n",
              "      cursor: pointer;\n",
              "      display: none;\n",
              "      fill: #1967D2;\n",
              "      height: 32px;\n",
              "      padding: 0 0 0 0;\n",
              "      width: 32px;\n",
              "    }\n",
              "\n",
              "    .colab-df-convert:hover {\n",
              "      background-color: #E2EBFA;\n",
              "      box-shadow: 0px 1px 2px rgba(60, 64, 67, 0.3), 0px 1px 3px 1px rgba(60, 64, 67, 0.15);\n",
              "      fill: #174EA6;\n",
              "    }\n",
              "\n",
              "    .colab-df-buttons div {\n",
              "      margin-bottom: 4px;\n",
              "    }\n",
              "\n",
              "    [theme=dark] .colab-df-convert {\n",
              "      background-color: #3B4455;\n",
              "      fill: #D2E3FC;\n",
              "    }\n",
              "\n",
              "    [theme=dark] .colab-df-convert:hover {\n",
              "      background-color: #434B5C;\n",
              "      box-shadow: 0px 1px 3px 1px rgba(0, 0, 0, 0.15);\n",
              "      filter: drop-shadow(0px 1px 2px rgba(0, 0, 0, 0.3));\n",
              "      fill: #FFFFFF;\n",
              "    }\n",
              "  </style>\n",
              "\n",
              "    <script>\n",
              "      const buttonEl =\n",
              "        document.querySelector('#df-4ba1c605-b9da-4b9a-a1fa-3b2899341b37 button.colab-df-convert');\n",
              "      buttonEl.style.display =\n",
              "        google.colab.kernel.accessAllowed ? 'block' : 'none';\n",
              "\n",
              "      async function convertToInteractive(key) {\n",
              "        const element = document.querySelector('#df-4ba1c605-b9da-4b9a-a1fa-3b2899341b37');\n",
              "        const dataTable =\n",
              "          await google.colab.kernel.invokeFunction('convertToInteractive',\n",
              "                                                    [key], {});\n",
              "        if (!dataTable) return;\n",
              "\n",
              "        const docLinkHtml = 'Like what you see? Visit the ' +\n",
              "          '<a target=\"_blank\" href=https://colab.research.google.com/notebooks/data_table.ipynb>data table notebook</a>'\n",
              "          + ' to learn more about interactive tables.';\n",
              "        element.innerHTML = '';\n",
              "        dataTable['output_type'] = 'display_data';\n",
              "        await google.colab.output.renderOutput(dataTable, element);\n",
              "        const docLink = document.createElement('div');\n",
              "        docLink.innerHTML = docLinkHtml;\n",
              "        element.appendChild(docLink);\n",
              "      }\n",
              "    </script>\n",
              "  </div>\n",
              "\n",
              "\n",
              "    <div id=\"df-73f8c772-6813-49dd-8f1f-c969dd2f6549\">\n",
              "      <button class=\"colab-df-quickchart\" onclick=\"quickchart('df-73f8c772-6813-49dd-8f1f-c969dd2f6549')\"\n",
              "                title=\"Suggest charts\"\n",
              "                style=\"display:none;\">\n",
              "\n",
              "<svg xmlns=\"http://www.w3.org/2000/svg\" height=\"24px\"viewBox=\"0 0 24 24\"\n",
              "     width=\"24px\">\n",
              "    <g>\n",
              "        <path d=\"M19 3H5c-1.1 0-2 .9-2 2v14c0 1.1.9 2 2 2h14c1.1 0 2-.9 2-2V5c0-1.1-.9-2-2-2zM9 17H7v-7h2v7zm4 0h-2V7h2v10zm4 0h-2v-4h2v4z\"/>\n",
              "    </g>\n",
              "</svg>\n",
              "      </button>\n",
              "\n",
              "<style>\n",
              "  .colab-df-quickchart {\n",
              "      --bg-color: #E8F0FE;\n",
              "      --fill-color: #1967D2;\n",
              "      --hover-bg-color: #E2EBFA;\n",
              "      --hover-fill-color: #174EA6;\n",
              "      --disabled-fill-color: #AAA;\n",
              "      --disabled-bg-color: #DDD;\n",
              "  }\n",
              "\n",
              "  [theme=dark] .colab-df-quickchart {\n",
              "      --bg-color: #3B4455;\n",
              "      --fill-color: #D2E3FC;\n",
              "      --hover-bg-color: #434B5C;\n",
              "      --hover-fill-color: #FFFFFF;\n",
              "      --disabled-bg-color: #3B4455;\n",
              "      --disabled-fill-color: #666;\n",
              "  }\n",
              "\n",
              "  .colab-df-quickchart {\n",
              "    background-color: var(--bg-color);\n",
              "    border: none;\n",
              "    border-radius: 50%;\n",
              "    cursor: pointer;\n",
              "    display: none;\n",
              "    fill: var(--fill-color);\n",
              "    height: 32px;\n",
              "    padding: 0;\n",
              "    width: 32px;\n",
              "  }\n",
              "\n",
              "  .colab-df-quickchart:hover {\n",
              "    background-color: var(--hover-bg-color);\n",
              "    box-shadow: 0 1px 2px rgba(60, 64, 67, 0.3), 0 1px 3px 1px rgba(60, 64, 67, 0.15);\n",
              "    fill: var(--button-hover-fill-color);\n",
              "  }\n",
              "\n",
              "  .colab-df-quickchart-complete:disabled,\n",
              "  .colab-df-quickchart-complete:disabled:hover {\n",
              "    background-color: var(--disabled-bg-color);\n",
              "    fill: var(--disabled-fill-color);\n",
              "    box-shadow: none;\n",
              "  }\n",
              "\n",
              "  .colab-df-spinner {\n",
              "    border: 2px solid var(--fill-color);\n",
              "    border-color: transparent;\n",
              "    border-bottom-color: var(--fill-color);\n",
              "    animation:\n",
              "      spin 1s steps(1) infinite;\n",
              "  }\n",
              "\n",
              "  @keyframes spin {\n",
              "    0% {\n",
              "      border-color: transparent;\n",
              "      border-bottom-color: var(--fill-color);\n",
              "      border-left-color: var(--fill-color);\n",
              "    }\n",
              "    20% {\n",
              "      border-color: transparent;\n",
              "      border-left-color: var(--fill-color);\n",
              "      border-top-color: var(--fill-color);\n",
              "    }\n",
              "    30% {\n",
              "      border-color: transparent;\n",
              "      border-left-color: var(--fill-color);\n",
              "      border-top-color: var(--fill-color);\n",
              "      border-right-color: var(--fill-color);\n",
              "    }\n",
              "    40% {\n",
              "      border-color: transparent;\n",
              "      border-right-color: var(--fill-color);\n",
              "      border-top-color: var(--fill-color);\n",
              "    }\n",
              "    60% {\n",
              "      border-color: transparent;\n",
              "      border-right-color: var(--fill-color);\n",
              "    }\n",
              "    80% {\n",
              "      border-color: transparent;\n",
              "      border-right-color: var(--fill-color);\n",
              "      border-bottom-color: var(--fill-color);\n",
              "    }\n",
              "    90% {\n",
              "      border-color: transparent;\n",
              "      border-bottom-color: var(--fill-color);\n",
              "    }\n",
              "  }\n",
              "</style>\n",
              "\n",
              "      <script>\n",
              "        async function quickchart(key) {\n",
              "          const quickchartButtonEl =\n",
              "            document.querySelector('#' + key + ' button');\n",
              "          quickchartButtonEl.disabled = true;  // To prevent multiple clicks.\n",
              "          quickchartButtonEl.classList.add('colab-df-spinner');\n",
              "          try {\n",
              "            const charts = await google.colab.kernel.invokeFunction(\n",
              "                'suggestCharts', [key], {});\n",
              "          } catch (error) {\n",
              "            console.error('Error during call to suggestCharts:', error);\n",
              "          }\n",
              "          quickchartButtonEl.classList.remove('colab-df-spinner');\n",
              "          quickchartButtonEl.classList.add('colab-df-quickchart-complete');\n",
              "        }\n",
              "        (() => {\n",
              "          let quickchartButtonEl =\n",
              "            document.querySelector('#df-73f8c772-6813-49dd-8f1f-c969dd2f6549 button');\n",
              "          quickchartButtonEl.style.display =\n",
              "            google.colab.kernel.accessAllowed ? 'block' : 'none';\n",
              "        })();\n",
              "      </script>\n",
              "    </div>\n",
              "\n",
              "  <div id=\"id_d9349c11-553d-4a43-8210-18e28cd9470d\">\n",
              "    <style>\n",
              "      .colab-df-generate {\n",
              "        background-color: #E8F0FE;\n",
              "        border: none;\n",
              "        border-radius: 50%;\n",
              "        cursor: pointer;\n",
              "        display: none;\n",
              "        fill: #1967D2;\n",
              "        height: 32px;\n",
              "        padding: 0 0 0 0;\n",
              "        width: 32px;\n",
              "      }\n",
              "\n",
              "      .colab-df-generate:hover {\n",
              "        background-color: #E2EBFA;\n",
              "        box-shadow: 0px 1px 2px rgba(60, 64, 67, 0.3), 0px 1px 3px 1px rgba(60, 64, 67, 0.15);\n",
              "        fill: #174EA6;\n",
              "      }\n",
              "\n",
              "      [theme=dark] .colab-df-generate {\n",
              "        background-color: #3B4455;\n",
              "        fill: #D2E3FC;\n",
              "      }\n",
              "\n",
              "      [theme=dark] .colab-df-generate:hover {\n",
              "        background-color: #434B5C;\n",
              "        box-shadow: 0px 1px 3px 1px rgba(0, 0, 0, 0.15);\n",
              "        filter: drop-shadow(0px 1px 2px rgba(0, 0, 0, 0.3));\n",
              "        fill: #FFFFFF;\n",
              "      }\n",
              "    </style>\n",
              "    <button class=\"colab-df-generate\" onclick=\"generateWithVariable('language_contingency_table')\"\n",
              "            title=\"Generate code using this dataframe.\"\n",
              "            style=\"display:none;\">\n",
              "\n",
              "  <svg xmlns=\"http://www.w3.org/2000/svg\" height=\"24px\"viewBox=\"0 0 24 24\"\n",
              "       width=\"24px\">\n",
              "    <path d=\"M7,19H8.4L18.45,9,17,7.55,7,17.6ZM5,21V16.75L18.45,3.32a2,2,0,0,1,2.83,0l1.4,1.43a1.91,1.91,0,0,1,.58,1.4,1.91,1.91,0,0,1-.58,1.4L9.25,21ZM18.45,9,17,7.55Zm-12,3A5.31,5.31,0,0,0,4.9,8.1,5.31,5.31,0,0,0,1,6.5,5.31,5.31,0,0,0,4.9,4.9,5.31,5.31,0,0,0,6.5,1,5.31,5.31,0,0,0,8.1,4.9,5.31,5.31,0,0,0,12,6.5,5.46,5.46,0,0,0,6.5,12Z\"/>\n",
              "  </svg>\n",
              "    </button>\n",
              "    <script>\n",
              "      (() => {\n",
              "      const buttonEl =\n",
              "        document.querySelector('#id_d9349c11-553d-4a43-8210-18e28cd9470d button.colab-df-generate');\n",
              "      buttonEl.style.display =\n",
              "        google.colab.kernel.accessAllowed ? 'block' : 'none';\n",
              "\n",
              "      buttonEl.onclick = () => {\n",
              "        google.colab.notebook.generateWithVariable('language_contingency_table');\n",
              "      }\n",
              "      })();\n",
              "    </script>\n",
              "  </div>\n",
              "\n",
              "    </div>\n",
              "  </div>\n"
            ],
            "application/vnd.google.colaboratory.intrinsic+json": {
              "type": "dataframe",
              "variable_name": "language_contingency_table",
              "summary": "{\n  \"name\": \"language_contingency_table\",\n  \"rows\": 3,\n  \"fields\": [\n    {\n      \"column\": \"language_preferred\",\n      \"properties\": {\n        \"dtype\": \"string\",\n        \"num_unique_values\": 3,\n        \"samples\": [\n          \"English\",\n          \"French\",\n          \"Spanish\"\n        ],\n        \"semantic_type\": \"\",\n        \"description\": \"\"\n      }\n    },\n    {\n      \"column\": \"no\",\n      \"properties\": {\n        \"dtype\": \"number\",\n        \"std\": 4,\n        \"min\": 11,\n        \"max\": 19,\n        \"num_unique_values\": 3,\n        \"samples\": [\n          11,\n          19,\n          16\n        ],\n        \"semantic_type\": \"\",\n        \"description\": \"\"\n      }\n    },\n    {\n      \"column\": \"yes\",\n      \"properties\": {\n        \"dtype\": \"number\",\n        \"std\": 3,\n        \"min\": 15,\n        \"max\": 21,\n        \"num_unique_values\": 3,\n        \"samples\": [\n          21,\n          15,\n          18\n        ],\n        \"semantic_type\": \"\",\n        \"description\": \"\"\n      }\n    }\n  ]\n}"
            }
          },
          "metadata": {},
          "execution_count": 40
        }
      ],
      "id": "Wk96Po4mEvsi"
    },
    {
      "cell_type": "markdown",
      "source": [
        "###Step 5: Calculate the p-value"
      ],
      "metadata": {
        "id": "4NJE_HNLEvsk"
      },
      "id": "4NJE_HNLEvsk"
    },
    {
      "cell_type": "markdown",
      "source": [
        "Once more using the *chi2_contingency* function"
      ],
      "metadata": {
        "id": "ji6rsrK7SVtZ"
      },
      "id": "ji6rsrK7SVtZ"
    },
    {
      "cell_type": "code",
      "source": [
        "# import the required test function\n",
        "from scipy.stats import chi2_contingency\n",
        "\n",
        "# calculate the test results\n",
        "chi, p_value, dof, expected = chi2_contingency(language_contingency_table)\n",
        "\n",
        "print(\"Test Statistic =\",chi)\n",
        "print(\"p-value =\",p_value)\n",
        "print(\"Degrees of freedom =\",dof)\n",
        "print(\"Expected frequencies \\n\", expected)"
      ],
      "metadata": {
        "colab": {
          "base_uri": "https://localhost:8080/"
        },
        "outputId": "f7ccc071-fe96-4321-c42d-0b7585b7856b",
        "id": "jZvfrYBxEvsk"
      },
      "execution_count": 41,
      "outputs": [
        {
          "output_type": "stream",
          "name": "stdout",
          "text": [
            "Test Statistic = 3.0930306905370832\n",
            "p-value = 0.2129888748754345\n",
            "Degrees of freedom = 2\n",
            "Expected frequencies \n",
            " [[14.72 17.28]\n",
            " [15.64 18.36]\n",
            " [15.64 18.36]]\n"
          ]
        }
      ],
      "id": "jZvfrYBxEvsk"
    },
    {
      "cell_type": "markdown",
      "source": [
        "###Step 6: Compare the p-value with alpha"
      ],
      "metadata": {
        "id": "vjk68Na8Evsl"
      },
      "id": "vjk68Na8Evsl"
    },
    {
      "cell_type": "code",
      "metadata": {
        "colab": {
          "base_uri": "https://localhost:8080/"
        },
        "outputId": "2673aa25-3140-42b6-e1a5-3b530e1da118",
        "id": "MXA2EoZYEvsl"
      },
      "source": [
        "# print the conclusion based on p-value\n",
        "if p_value < alpha:\n",
        "    print(f'As the p-value {p_value} is less than the level of significance, we reject the null hypothesis.')\n",
        "else:\n",
        "    print(f'As the p-value {p_value} is greater than the level of significance, we fail to reject the null hypothesis.')"
      ],
      "execution_count": 42,
      "outputs": [
        {
          "output_type": "stream",
          "name": "stdout",
          "text": [
            "As the p-value 0.2129888748754345 is greater than the level of significance, we fail to reject the null hypothesis.\n"
          ]
        }
      ],
      "id": "MXA2EoZYEvsl"
    },
    {
      "cell_type": "markdown",
      "source": [
        "###Step 7: Draw inference"
      ],
      "metadata": {
        "id": "CPS3qoeiEvsm"
      },
      "id": "CPS3qoeiEvsm"
    },
    {
      "cell_type": "markdown",
      "source": [
        "This time we failed to reject the null hypothesis, meaning we can assume the preferred language has no significant statistical impact on the number of users who become subscriber.\n",
        "\n",
        "If we had only the EDA to go by, I'd have said English speakers would have a higher level of conversion than Spanish and French. But there's no statistical data to support that is what we learned here."
      ],
      "metadata": {
        "id": "i5e9dykWSdFl"
      },
      "id": "i5e9dykWSdFl"
    },
    {
      "cell_type": "markdown",
      "metadata": {
        "id": "8d585a90"
      },
      "source": [
        "## 4. Is the time spent on the new page same for the different language users?"
      ],
      "id": "8d585a90"
    },
    {
      "cell_type": "markdown",
      "source": [
        "### Perform Visual Analysis\n",
        "\n",
        "Let's firstly repeat the two plots from question 1: boxplot and histplot"
      ],
      "metadata": {
        "id": "2dvdFko2Ezd6"
      },
      "id": "2dvdFko2Ezd6"
    },
    {
      "cell_type": "code",
      "source": [
        "# Firstly on a boxplot\n",
        "plt.figure(figsize=(6,4))\n",
        "sns.boxplot(x = 'language_preferred', y = 'time_spent_on_the_page', data = df,showmeans=True, color='lightblue', orient='v')\n",
        "plt.show()"
      ],
      "metadata": {
        "colab": {
          "base_uri": "https://localhost:8080/",
          "height": 397
        },
        "outputId": "dfccccbd-6702-4cbd-f2a8-415a112be04c",
        "id": "4iY4rbZ3Ezd7"
      },
      "execution_count": 43,
      "outputs": [
        {
          "output_type": "display_data",
          "data": {
            "text/plain": [
              "<Figure size 600x400 with 1 Axes>"
            ],
            "image/png": "[encoded data removed]"
          },
          "metadata": {}
        }
      ],
      "id": "4iY4rbZ3Ezd7"
    },
    {
      "cell_type": "code",
      "source": [
        "sns.histplot(data=df, x='time_spent_on_the_page', hue='language_preferred', palette='winter')"
      ],
      "metadata": {
        "colab": {
          "base_uri": "https://localhost:8080/",
          "height": 476
        },
        "id": "KEW3BRb0K4Bi",
        "outputId": "c9a05ad2-1314-4681-da64-7b568a29f71c"
      },
      "id": "KEW3BRb0K4Bi",
      "execution_count": 44,
      "outputs": [
        {
          "output_type": "execute_result",
          "data": {
            "text/plain": [
              "<Axes: xlabel='time_spent_on_the_page', ylabel='Count'>"
            ]
          },
          "metadata": {},
          "execution_count": 44
        },
        {
          "output_type": "display_data",
          "data": {
            "text/plain": [
              "<Figure size 640x480 with 1 Axes>"
            ],
            "image/png": "[encoded data removed]"
          },
          "metadata": {}
        }
      ]
    },
    {
      "cell_type": "markdown",
      "source": [
        "At first glance, there doesn't seem to be - at least visually - a clear difference on time spent on page and preferred language.\n",
        "\n",
        "In the boxplot we can see the means are very close, with Spanish having a clear outlier, but nothing significantly that caught our eyes. We'll see if they are statistically relant though."
      ],
      "metadata": {
        "id": "Vk9U40Z_Ezd7"
      },
      "id": "Vk9U40Z_Ezd7"
    },
    {
      "cell_type": "markdown",
      "source": [
        "### Step 1: Define the null and alternate hyphotesis"
      ],
      "metadata": {
        "id": "SOQwTW-bEzd8"
      },
      "id": "SOQwTW-bEzd8"
    },
    {
      "cell_type": "markdown",
      "source": [
        "Let $\\mu_1, \\mu_2, \\mu_3$ be the means for time spent on page for English, Spanish and French.\n",
        "\n",
        "We will test the null hypothesis\n",
        "\n",
        ">$H_0: \\mu_1 = \\mu_2 = \\mu_3$\n",
        "\n",
        "against the alternative hypothesis\n",
        "\n",
        ">$H_a: $ At least for one of the three languages, the time spent on page statistically differs.\n"
      ],
      "metadata": {
        "id": "e0tbvxomEzd8"
      },
      "id": "e0tbvxomEzd8"
    },
    {
      "cell_type": "markdown",
      "source": [
        "### Step 2: Select the appropriate test"
      ],
      "metadata": {
        "id": "DDj0JJMwEzd9"
      },
      "id": "DDj0JJMwEzd9"
    },
    {
      "cell_type": "markdown",
      "source": [
        "We have one continuous variable (i.e time on page) to be compared against the 3 preferred languages. **One-way ANOVA** seems to be appropriate here, as long as the normality and equality of variance assumptions are valid.\n",
        "\n",
        "* Let's use Shapiro-Wilk’s test for the checkign of normality.\n",
        "* And Levene test for equality of variance."
      ],
      "metadata": {
        "id": "t5hcbNEjEzd9"
      },
      "id": "t5hcbNEjEzd9"
    },
    {
      "cell_type": "code",
      "source": [
        "from scipy.stats import shapiro\n",
        "\n",
        "# find the p-value for the time distribution as whole\n",
        "w, p_value = shapiro(df['time_spent_on_the_page'])\n",
        "print('The p-value is', p_value)"
      ],
      "metadata": {
        "colab": {
          "base_uri": "https://localhost:8080/"
        },
        "id": "6wUGLbQBOqYy",
        "outputId": "0257b762-529d-4caa-9562-1a3f4b779b57"
      },
      "id": "6wUGLbQBOqYy",
      "execution_count": 45,
      "outputs": [
        {
          "output_type": "stream",
          "name": "stdout",
          "text": [
            "The p-value is 0.5642956935237358\n"
          ]
        }
      ]
    },
    {
      "cell_type": "markdown",
      "source": [
        "For the time distribution as a whole, we can assume normality of the distribution as the p-value (0.56) is larger than alpha, hence failing to reject the null hypothesis the distribution is normal."
      ],
      "metadata": {
        "id": "VDaAj3UwPCPq"
      },
      "id": "VDaAj3UwPCPq"
    },
    {
      "cell_type": "markdown",
      "source": [
        "Let's now see if we can assume normality within each of the 3 languages as well."
      ],
      "metadata": {
        "id": "fJtcV0AiPx5g"
      },
      "id": "fJtcV0AiPx5g"
    },
    {
      "cell_type": "code",
      "source": [
        "w, p_value = shapiro(df['time_spent_on_the_page'][df['language_preferred']=='English'])\n",
        "print('The p-value for English is', p_value)\n",
        "\n",
        "w, p_value = shapiro(df['time_spent_on_the_page'][df['language_preferred']=='Spanish'])\n",
        "print('The p-value for Spanish is', p_value)\n",
        "\n",
        "w, p_value = shapiro(df['time_spent_on_the_page'][df['language_preferred']=='French'])\n",
        "print('The p-value for French is', p_value)"
      ],
      "metadata": {
        "colab": {
          "base_uri": "https://localhost:8080/"
        },
        "id": "GPXSxpjzPCu8",
        "outputId": "873054da-e10f-44dd-f839-d9aab666568e"
      },
      "id": "GPXSxpjzPCu8",
      "execution_count": 46,
      "outputs": [
        {
          "output_type": "stream",
          "name": "stdout",
          "text": [
            "The p-value for English is 0.8690972103974174\n",
            "The p-value for Spanish is 0.20207793105243776\n",
            "The p-value for French is 0.6511558695519509\n"
          ]
        }
      ]
    },
    {
      "cell_type": "markdown",
      "source": [
        "In all 3 cases, the p-value is way larger than alpha, once again failing to reject the null hyphotesis that the distributions are normal."
      ],
      "metadata": {
        "id": "OlBXyLqWP3RG"
      },
      "id": "OlBXyLqWP3RG"
    },
    {
      "cell_type": "markdown",
      "source": [
        "Let's now check the equality of variance."
      ],
      "metadata": {
        "id": "I_j-761XQjtk"
      },
      "id": "I_j-761XQjtk"
    },
    {
      "cell_type": "code",
      "source": [
        "from scipy.stats import levene\n",
        "statistic, p_value = levene(df['time_spent_on_the_page'][df['language_preferred']=='English'],\n",
        "                            df['time_spent_on_the_page'][df['language_preferred']=='Spanish'],\n",
        "                            df['time_spent_on_the_page'][df['language_preferred']=='French'])\n",
        "# find the p-value\n",
        "print('The p-value is', p_value)"
      ],
      "metadata": {
        "colab": {
          "base_uri": "https://localhost:8080/"
        },
        "id": "14OCTDTqQvwV",
        "outputId": "1257c106-6d9a-4324-ea46-9bcc55d5f3df"
      },
      "id": "14OCTDTqQvwV",
      "execution_count": 47,
      "outputs": [
        {
          "output_type": "stream",
          "name": "stdout",
          "text": [
            "The p-value is 0.06515086840327314\n"
          ]
        }
      ]
    },
    {
      "cell_type": "markdown",
      "source": [
        "The p-value is only slightly higher than alpha, but still high enough for us to fail to reject the null hyphotesis and hence assume equality of variances as well."
      ],
      "metadata": {
        "id": "407eUOiGRBfc"
      },
      "id": "407eUOiGRBfc"
    },
    {
      "cell_type": "markdown",
      "source": [
        "### Step 3: Decide the significance level"
      ],
      "metadata": {
        "id": "XIoYQeWgEzd9"
      },
      "id": "XIoYQeWgEzd9"
    },
    {
      "cell_type": "markdown",
      "source": [
        "Similarly to the 3 questions above, the significance level is given at problem statement and set at 5%."
      ],
      "metadata": {
        "id": "TMT53ftOEzd-"
      },
      "id": "TMT53ftOEzd-"
    },
    {
      "cell_type": "code",
      "source": [
        "alpha=0.05"
      ],
      "metadata": {
        "id": "6fk-5JncEzd-"
      },
      "execution_count": 48,
      "outputs": [],
      "id": "6fk-5JncEzd-"
    },
    {
      "cell_type": "markdown",
      "source": [],
      "metadata": {
        "id": "XUZJ_7NWEzd_"
      },
      "id": "XUZJ_7NWEzd_"
    },
    {
      "cell_type": "markdown",
      "source": [
        "###Step 4: Collect and prepare the data"
      ],
      "metadata": {
        "id": "7gUpJlVWEzd_"
      },
      "id": "7gUpJlVWEzd_"
    },
    {
      "cell_type": "code",
      "source": [
        "english = df['time_spent_on_the_page'][df['language_preferred']=='English']\n",
        "french  = df['time_spent_on_the_page'][df['language_preferred']=='French']\n",
        "spanish = df['time_spent_on_the_page'][df['language_preferred']=='Spanish']"
      ],
      "metadata": {
        "id": "4PftojKmEzd_"
      },
      "execution_count": 49,
      "outputs": [],
      "id": "4PftojKmEzd_"
    },
    {
      "cell_type": "markdown",
      "source": [
        "###Step 5: Calculate the p-value"
      ],
      "metadata": {
        "id": "ym50UxMKEzeA"
      },
      "id": "ym50UxMKEzeA"
    },
    {
      "cell_type": "markdown",
      "source": [
        "Using the *f_oneway* function"
      ],
      "metadata": {
        "id": "mSEYo27ZU13i"
      },
      "id": "mSEYo27ZU13i"
    },
    {
      "cell_type": "code",
      "source": [
        "from scipy.stats import f_oneway\n",
        "\n",
        "# perform one-way anova test\n",
        "test_stat, p_value_anova = f_oneway(df.loc[df['language_preferred']=='English', 'time_spent_on_the_page'],\n",
        "                              df.loc[df['language_preferred']=='French', 'time_spent_on_the_page'],\n",
        "                              df.loc[df['language_preferred']=='Spanish', 'time_spent_on_the_page'])\n",
        "print('The p-value is ' + str(p_value_anova))"
      ],
      "metadata": {
        "colab": {
          "base_uri": "https://localhost:8080/"
        },
        "id": "lyLs-6gnSQnz",
        "outputId": "2c7b1c49-9e26-4a0a-b5dc-212c4b9ae499"
      },
      "id": "lyLs-6gnSQnz",
      "execution_count": 50,
      "outputs": [
        {
          "output_type": "stream",
          "name": "stdout",
          "text": [
            "The p-value is 0.8665610536012648\n"
          ]
        }
      ]
    },
    {
      "cell_type": "markdown",
      "source": [
        "###Step 6: Compare the p-value with alpha"
      ],
      "metadata": {
        "id": "T47DeXe-EzeB"
      },
      "id": "T47DeXe-EzeB"
    },
    {
      "cell_type": "code",
      "metadata": {
        "colab": {
          "base_uri": "https://localhost:8080/"
        },
        "outputId": "21c6d602-1c97-46d5-97c0-6e64121a3747",
        "id": "8hPfgC5nEzeB"
      },
      "source": [
        "# print the conclusion based on p-value\n",
        "if p_value_anova < alpha:\n",
        "    print(f'As the p-value {p_value} is less than the level of significance, we reject the null hypothesis.')\n",
        "else:\n",
        "    print(f'As the p-value {p_value} is greater than the level of significance, we fail to reject the null hypothesis.')"
      ],
      "execution_count": 51,
      "outputs": [
        {
          "output_type": "stream",
          "name": "stdout",
          "text": [
            "As the p-value 0.06515086840327314 is greater than the level of significance, we fail to reject the null hypothesis.\n"
          ]
        }
      ],
      "id": "8hPfgC5nEzeB"
    },
    {
      "cell_type": "markdown",
      "source": [
        "###Step 7: Draw inference"
      ],
      "metadata": {
        "id": "Vec-QZg8EzeC"
      },
      "id": "Vec-QZg8EzeC"
    },
    {
      "cell_type": "markdown",
      "source": [
        "We also fail to reject the null hypothesis here, meaning there's no statistical difference in the time users spend on the website and which are their preferred language.\n",
        "\n",
        "This is also in line with visuals, which didn't play a trick on me this time around."
      ],
      "metadata": {
        "id": "qa15V7NdVBSh"
      },
      "id": "qa15V7NdVBSh"
    },
    {
      "cell_type": "markdown",
      "metadata": {
        "id": "3acbc947"
      },
      "source": [
        "# <a id = \"lastlink\"></a>  Conclusion and Business Recommendations\n"
      ],
      "id": "3acbc947"
    },
    {
      "cell_type": "markdown",
      "metadata": {
        "id": "21fb1063"
      },
      "source": [
        "This is a very interesting use case. The following is a business lens on top what needs to happen next:\n",
        "\n",
        "* The new landing page clearly worked. Not only users spend more time on the new one, but it also boost the number of subscribers.\n",
        "\n",
        "With that in mind, it's important to dig deep on what actually worked on the new design. It seems a focus on UI design and usability will be important for E-News.\n",
        "\n",
        "* Preferred language is not a real factor in engagement and subscription.\n",
        "\n",
        "While it made sense to asses how comfortable users would be with news in their preferred language, that didn't boost engagement and subscription levels. E-News should focus on content rather than localised languages.\n",
        "\n",
        "I would recommend to go-live with the new website and, from them, try to analyse in more details metrics such as:\n",
        "\n",
        "- Device their using (mobile, laptop, etc) and see if that also plays a factor or not.\n",
        "- Type of content that is driving engagement. Map a bit deeper what people who are spending more time on the website read and whether or not that leads to more subscriptions too.\n",
        "- Check if the time spent on the website is on actual read of the news or scrolling. This can help on better UI design, site stability, etc."
      ],
      "id": "21fb1063"
    },
    {
      "cell_type": "markdown",
      "source": [
        "___"
      ],
      "metadata": {
        "id": "U0dAd4i0iCHo"
      },
      "id": "U0dAd4i0iCHo"
    }
  ]
}